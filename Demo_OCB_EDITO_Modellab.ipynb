{
  "nbformat": 4,
  "nbformat_minor": 0,
  "metadata": {
    "colab": {
      "provenance": [],
      "authorship_tag": "ABX9TyNVv0jFvTuAU5O21oMM38Ci",
      "include_colab_link": true
    },
    "kernelspec": {
      "name": "python3",
      "display_name": "Python 3"
    },
    "language_info": {
      "name": "python"
    }
  },
  "cells": [
    {
      "cell_type": "markdown",
      "metadata": {
        "id": "view-in-github",
        "colab_type": "text"
      },
      "source": [
        "<a href=\"https://colab.research.google.com/github/quentinf00/my_ocb/blob/main/Demo_OCB_EDITO_Modellab.ipynb\" target=\"_parent\"><img src=\"https://colab.research.google.com/assets/colab-badge.svg\" alt=\"Open In Colab\"/></a>"
      ]
    },
    {
      "cell_type": "markdown",
      "source": [
        "# Demo of the oceanbench ecosystem components:\n",
        "\n",
        "- **Datachallenges:** reproducible and configured pipelines for loading data and computing metrics\n",
        "- **Pipelines:**  Sequences of processing steps\n",
        "- **Modules:** Units of processing\n",
        "\n",
        "Pipelines and modules are installable, configurable and documented"
      ],
      "metadata": {
        "id": "8bV6TaMSvgLf"
      }
    },
    {
      "cell_type": "markdown",
      "source": [
        "# Installation\n",
        "-  Download repo\n",
        "-  Install conda dependencies"
      ],
      "metadata": {
        "id": "gEtwOB2zo3in"
      }
    },
    {
      "cell_type": "code",
      "source": [
        "!pip install --quiet condacolab\n",
        "import condacolab\n",
        "condacolab.install_mambaforge()"
      ],
      "metadata": {
        "colab": {
          "base_uri": "https://localhost:8080/"
        },
        "id": "W2ZqSBM52Ht6",
        "outputId": "c78e9ed0-5025-4c01-b7cc-d8099676bb05"
      },
      "execution_count": 1,
      "outputs": [
        {
          "output_type": "stream",
          "name": "stdout",
          "text": [
            "⏬ Downloading https://github.com/conda-forge/miniforge/releases/download/23.11.0-0/Mambaforge-23.11.0-0-Linux-x86_64.sh...\n",
            "📦 Installing...\n",
            "📌 Adjusting configuration...\n",
            "🩹 Patching environment...\n",
            "⏲ Done in 0:00:13\n",
            "🔁 Restarting kernel...\n"
          ]
        }
      ]
    },
    {
      "cell_type": "code",
      "source": [
        "!git clone https://github.com/quentinf00/my_ocb.git"
      ],
      "metadata": {
        "colab": {
          "base_uri": "https://localhost:8080/"
        },
        "id": "CDakwckw2Jgm",
        "outputId": "e6322b7e-fdfc-436e-ee0d-da72ac4b0370"
      },
      "execution_count": 1,
      "outputs": [
        {
          "output_type": "stream",
          "name": "stdout",
          "text": [
            "fatal: destination path 'my_ocb' already exists and is not an empty directory.\n"
          ]
        }
      ]
    },
    {
      "cell_type": "code",
      "source": [
        "%cd my_ocb"
      ],
      "metadata": {
        "colab": {
          "base_uri": "https://localhost:8080/"
        },
        "id": "4uj1a9IV2Mbj",
        "outputId": "05b93272-3f31-424b-e4c4-9bdde5553ea2"
      },
      "execution_count": 2,
      "outputs": [
        {
          "output_type": "stream",
          "name": "stdout",
          "text": [
            "/content/my_ocb\n"
          ]
        }
      ]
    },
    {
      "cell_type": "code",
      "source": [
        "!git pull"
      ],
      "metadata": {
        "id": "7U7MvaiHusti"
      },
      "execution_count": null,
      "outputs": []
    },
    {
      "cell_type": "code",
      "source": [
        "!mamba env update -q -f env.yaml -n base"
      ],
      "metadata": {
        "colab": {
          "base_uri": "https://localhost:8080/"
        },
        "id": "tIl8P0UY2Qb0",
        "outputId": "419035ea-b950-4a80-889e-4b0e1b07ca6e"
      },
      "execution_count": 4,
      "outputs": [
        {
          "output_type": "stream",
          "name": "stdout",
          "text": [
            "\n",
            "  Pinned packages:\n",
            "\n",
            "  - python 3.10.*\n",
            "  - python_abi 3.10.* *cp310*\n",
            "  - cuda-version 12.*\n",
            "\n",
            "\n",
            "Preparing transaction: ...working... done\n",
            "Verifying transaction: ...working... done\n",
            "Executing transaction: ...working... \n",
            "\n",
            "done\n",
            "Installing pip dependencies: ...working... done\n"
          ]
        }
      ]
    },
    {
      "cell_type": "markdown",
      "source": [
        "# Demo Data challenge SSH Mapping OSE (2021)"
      ],
      "metadata": {
        "id": "GVh2lFAVp2Wo"
      }
    },
    {
      "cell_type": "code",
      "source": [
        "%cd datachallenges/dc_ose_2021"
      ],
      "metadata": {
        "colab": {
          "base_uri": "https://localhost:8080/"
        },
        "id": "aL6xeLhXp9Gp",
        "outputId": "b610a273-77c4-4dd9-f1e7-b70d8354fd47"
      },
      "execution_count": 5,
      "outputs": [
        {
          "output_type": "stream",
          "name": "stdout",
          "text": [
            "/content/my_ocb/datachallenges/dc_ose_2021\n"
          ]
        }
      ]
    },
    {
      "cell_type": "markdown",
      "source": [
        "# Install pipelines"
      ],
      "metadata": {
        "id": "1nMPUzb5qx8t"
      }
    },
    {
      "cell_type": "code",
      "source": [
        "# This data challenge has a single pipeline so far for computing lambda x\n",
        "!cat pipelines.txt"
      ],
      "metadata": {
        "colab": {
          "base_uri": "https://localhost:8080/"
        },
        "id": "AbqK_2ZEpm3_",
        "outputId": "f987f659-43fa-493d-9dee-12fb280a6901"
      },
      "execution_count": 6,
      "outputs": [
        {
          "output_type": "stream",
          "name": "stdout",
          "text": [
            "qf_alongtrack_lambdax_from_map @ git+https://github.com/quentinf00/my_ocb.git#egg=qf_alongtrack_lambdax_from_map&subdirectory=pipelines/qf_alongtrack_lambdax_from_map\n"
          ]
        }
      ]
    },
    {
      "cell_type": "code",
      "source": [
        "!pip install -q -r pipelines.txt"
      ],
      "metadata": {
        "colab": {
          "base_uri": "https://localhost:8080/"
        },
        "id": "p3WpTVaMqxlD",
        "outputId": "f7ef9b0b-c0d7-40bc-8334-ee0414eeb8c0"
      },
      "execution_count": 7,
      "outputs": [
        {
          "output_type": "stream",
          "name": "stdout",
          "text": [
            "  Installing build dependencies ... \u001b[?25l\u001b[?25hdone\n",
            "  Getting requirements to build wheel ... \u001b[?25l\u001b[?25hdone\n",
            "  Installing backend dependencies ... \u001b[?25l\u001b[?25hdone\n",
            "  Preparing metadata (pyproject.toml) ... \u001b[?25l\u001b[?25hdone\n",
            "  Installing build dependencies ... \u001b[?25l\u001b[?25hdone\n",
            "  Getting requirements to build wheel ... \u001b[?25l\u001b[?25hdone\n",
            "  Installing backend dependencies ... \u001b[?25l\u001b[?25hdone\n",
            "  Preparing metadata (pyproject.toml) ... \u001b[?25l\u001b[?25hdone\n",
            "  Installing build dependencies ... \u001b[?25l\u001b[?25hdone\n",
            "  Getting requirements to build wheel ... \u001b[?25l\u001b[?25hdone\n",
            "  Installing backend dependencies ... \u001b[?25l\u001b[?25hdone\n",
            "  Preparing metadata (pyproject.toml) ... \u001b[?25l\u001b[?25hdone\n",
            "  Installing build dependencies ... \u001b[?25l\u001b[?25hdone\n",
            "  Getting requirements to build wheel ... \u001b[?25l\u001b[?25hdone\n",
            "  Installing backend dependencies ... \u001b[?25l\u001b[?25hdone\n",
            "  Preparing metadata (pyproject.toml) ... \u001b[?25l\u001b[?25hdone\n",
            "  Installing build dependencies ... \u001b[?25l\u001b[?25hdone\n",
            "  Getting requirements to build wheel ... \u001b[?25l\u001b[?25hdone\n",
            "  Installing backend dependencies ... \u001b[?25l\u001b[?25hdone\n",
            "  Preparing metadata (pyproject.toml) ... \u001b[?25l\u001b[?25hdone\n",
            "  Building wheel for qf_alongtrack_lambdax_from_map (pyproject.toml) ... \u001b[?25l\u001b[?25hdone\n",
            "  Building wheel for alongtrack-lambdax (pyproject.toml) ... \u001b[?25l\u001b[?25hdone\n",
            "  Building wheel for dz-download-ssh-tracks (pyproject.toml) ... \u001b[?25l\u001b[?25hdone\n",
            "  Building wheel for qf-filter-merge-daily-ssh-tracks (pyproject.toml) ... \u001b[?25l\u001b[?25hdone\n",
            "  Building wheel for qf-interp-grid-on-track (pyproject.toml) ... \u001b[?25l\u001b[?25hdone\n",
            "\u001b[33mWARNING: Running pip as the 'root' user can result in broken permissions and conflicting behaviour with the system package manager. It is recommended to use a virtual environment instead: https://pip.pypa.io/warnings/venv\u001b[0m\u001b[33m\n",
            "\u001b[0m"
          ]
        }
      ]
    },
    {
      "cell_type": "markdown",
      "source": [
        "## Display the pipeline configuration for this data challenge"
      ],
      "metadata": {
        "id": "zapY00Suz327"
      }
    },
    {
      "cell_type": "code",
      "source": [
        "# The key \"to_run\" contains the sequences of steps\n",
        "# The key \"stages\" contains the configuration of each pipeline step\n",
        "!cat stage_configs.yaml"
      ],
      "metadata": {
        "colab": {
          "base_uri": "https://localhost:8080/"
        },
        "id": "rXgTODr5z9hH",
        "outputId": "f39242a9-ec10-4b35-b95b-11f15b1df748"
      },
      "execution_count": 28,
      "outputs": [
        {
          "output_type": "stream",
          "name": "stdout",
          "text": [
            "_target_: qf_alongtrack_lambdax_from_map.run_pipeline\n",
            "to_run:\n",
            "- dl_tracks\n",
            "- filter_and_merge\n",
            "- interp_on_track\n",
            "- lambdax\n",
            "stages:\n",
            "  method: default\n",
            "  dl_tracks:\n",
            "    _target_: dz_download_ssh_tracks.run\n",
            "    _partial_: true\n",
            "    sat: c2\n",
            "    download_dir: data/downloads/${.sat}\n",
            "    min_time: '2017-01-01'\n",
            "    max_time: '2017-12-31'\n",
            "    filters:\n",
            "    - '*2017*'\n",
            "    _skip_val: false\n",
            "  filter_and_merge:\n",
            "    _target_: qf_filter_merge_daily_ssh_tracks.run\n",
            "    _partial_: true\n",
            "    input_dir: ${..dl_tracks.download_dir}\n",
            "    output_path: data/prepared/${..dl_tracks.sat}.nc\n",
            "    min_lon: -65.0\n",
            "    max_lon: -55.0\n",
            "    min_lat: 33.0\n",
            "    max_lat: 43.0\n",
            "    min_time: '2017-01-01'\n",
            "    max_time: '2018-01-01'\n",
            "    _skip_val: false\n",
            "  interp_on_track:\n",
            "    _target_: qf_interp_grid_on_track.run\n",
            "    _partial_: true\n",
            "    track_path: ${..filter_and_merge.output_path}\n",
            "    grid_path: data/method_outputs/${..method}.nc\n",
            "    grid_var: ???\n",
            "    output_path: data/method_outputs/${..method}_on_track.nc\n",
            "    _skip_val: false\n",
            "  lambdax:\n",
            "    _target_: alongtrack_lambdax.main_api\n",
            "    _partial_: true\n",
            "    study_path: ${..interp_on_track.output_path}\n",
            "    study_var: ${..interp_on_track.grid_var}\n",
            "    ref_path: ${..filter_and_merge.output_path}\n",
            "    ref_var: ssh\n",
            "    delta_t: 0.9434\n",
            "    velocity: 6.77\n",
            "    length_scale: 1000.0\n",
            "    segment_overlapping: 0.25\n",
            "    output_lambdax_path: data/metrics/lambdax_${..method}.json\n",
            "    output_psd_path: data/metrics/psd_${..method}.json\n"
          ]
        }
      ]
    },
    {
      "cell_type": "markdown",
      "source": [
        "## Visualize processing steps"
      ],
      "metadata": {
        "id": "ShFwd6XZxETD"
      }
    },
    {
      "cell_type": "code",
      "source": [
        "#In term of stages names\n",
        "!dvc dag 'compute_lambdax@0'"
      ],
      "metadata": {
        "colab": {
          "base_uri": "https://localhost:8080/"
        },
        "id": "UtDCwEiCy5dI",
        "outputId": "4b1a0795-7b96-4f46-e9c6-22e8ce71bfa3"
      },
      "execution_count": 24,
      "outputs": [
        {
          "output_type": "stream",
          "name": "stdout",
          "text": [
            "+----------------------+                   +-----------------+   \n",
            "| filter_and_merge_ref |                   | method_output@0 |   \n",
            "+----------------------+******             +-----------------+   \n",
            "            *                 ******                *            \n",
            "            *                       *******         *            \n",
            "            *                              ****     *            \n",
            "            **                            +-------------------+  \n",
            "              ****                        | interp_on_track@0 |  \n",
            "                  ***                     +-------------------+  \n",
            "                     ***                 ****                    \n",
            "                        ****          ***                        \n",
            "                            **      **                           \n",
            "                      +-------------------+                      \n",
            "                      | compute_lambdax@0 |                      \n",
            "                      +-------------------+                      \n",
            "\u001b[0m"
          ]
        }
      ]
    },
    {
      "cell_type": "code",
      "source": [
        "#In term of data dependency\n",
        "!dvc dag 'compute_lambdax@0' --out"
      ],
      "metadata": {
        "colab": {
          "base_uri": "https://localhost:8080/"
        },
        "id": "9MoRdDpLxig-",
        "outputId": "5ed0a109-b3df-49c6-8191-47557d8a834d"
      },
      "execution_count": 25,
      "outputs": [
        {
          "output_type": "stream",
          "name": "stdout",
          "text": [
            "                                    +---------------------+                                                               +---------------------------------+\n",
            "                                    | data/prepared/c2.nc |*********                                                      | data/method_outputs/4dvarnet.nc |\n",
            "                                    +---------------------+**       ****************                                      +---------------------------------+\n",
            "                                ****                         *****                  *****************                                       *\n",
            "                           *****                                  *****                              ****************                       *\n",
            "                      *****                                            *****                                         *********              *\n",
            "                   ***                                                      *****                                     +------------------------------------------+\n",
            "                   *                                                             *****                        ********| data/method_outputs/4dvarnet_on_track.nc |\n",
            "                   *                                                                  ************************        +------------------------------------------+\n",
            "                   *                                                 *********************  *****                         ******\n",
            "                   *                             ********************                            *****               *****\n",
            "                   *                  ***********                                                     ***         ***\n",
            "+------------------------------------+                                                      +--------------------------------+\n",
            "| data/metrics/lambdax_4dvarnet.json |                                                      | data/metrics/psd_4dvarnet.json |\n",
            "+------------------------------------+                                                      +--------------------------------+\n",
            "\u001b[0m"
          ]
        }
      ]
    },
    {
      "cell_type": "markdown",
      "source": [
        "## Download some data associated with the data challenge"
      ],
      "metadata": {
        "id": "dVbeNOQAzKQw"
      }
    },
    {
      "cell_type": "code",
      "source": [
        "# We fetch the reference alongtrack data of cryosat2\n",
        "!dvc pull data/prepared/c2.nc"
      ],
      "metadata": {
        "colab": {
          "base_uri": "https://localhost:8080/"
        },
        "id": "2bHHhUBkzTpS",
        "outputId": "866a6c0a-3a27-43ab-9659-e3710b73b86b"
      },
      "execution_count": 26,
      "outputs": [
        {
          "output_type": "stream",
          "name": "stdout",
          "text": [
            "Collecting          |1.00 [00:00, 27.8entry/s]\n",
            "Fetching\n",
            "!\u001b[A\n",
            "  0% |          |0/? [00:00<?,    ?files/s]\u001b[A\n",
            "                                           \u001b[A\n",
            "!\u001b[A\n",
            "  0% |          |0/? [00:00<?,    ?files/s]\u001b[A\n",
            "100% 1/1 [00:00<00:00,  2.30files/s{'info': ''}]\u001b[A\n",
            "                                                \u001b[A\n",
            "Fetching from https:   0% 0/1 [00:00<?, ?file/s]\u001b[A\n",
            "Fetching from https:   0% 0/1 [00:00<?, ?file/s{'info': ''}]\u001b[A\n",
            "\n",
            "  0% 0.00/1.33M [00:00<?, ?B/s]\u001b[A\u001b[A\n",
            "\n",
            "  0% 0.00/1.33M [00:00<?, ?B/s{'info': ''}]\u001b[A\u001b[A\n",
            "\n",
            "  5% 63.5k/1.33M [00:00<00:02, 454kB/s{'info': ''}]\u001b[A\u001b[A\n",
            "\n",
            " 14% 191k/1.33M [00:00<00:01, 722kB/s{'info': ''}] \u001b[A\u001b[A\n",
            "\n",
            " 18% 239k/1.33M [00:00<00:02, 549kB/s{'info': ''}]\u001b[A\u001b[A\n",
            "\n",
            " 42% 575k/1.33M [00:00<00:00, 1.28MB/s{'info': ''}]\u001b[A\u001b[A\n",
            "\n",
            " 68% 927k/1.33M [00:00<00:00, 1.72MB/s{'info': ''}]\u001b[A\u001b[A\n",
            "\n",
            "                                                   \u001b[A\u001b[A\n",
            "Fetching from https: 100% 1/1 [00:01<00:00,  1.49s/file{'info': ''}]\u001b[A\n",
            "Fetching\n",
            "Building workspace index          |4.00 [00:00, 91.5entry/s]\n",
            "Comparing indexes          |6.00 [00:00,  702entry/s]\n",
            "Applying changes          |1.00 [00:00,   129file/s]\n",
            "\u001b[32mA\u001b[0m       data/prepared/c2.nc\n",
            "1 file added and 1 file fetched\n",
            "\u001b[0m"
          ]
        }
      ]
    },
    {
      "cell_type": "code",
      "source": [
        "import xarray as xr\n",
        "xr.open_dataset('data/prepared/c2.nc')"
      ],
      "metadata": {
        "colab": {
          "base_uri": "https://localhost:8080/",
          "height": 270
        },
        "id": "A3yyVUInzgF_",
        "outputId": "111f51ef-6ede-4cf2-e0ff-aa20c7152a18"
      },
      "execution_count": 27,
      "outputs": [
        {
          "output_type": "execute_result",
          "data": {
            "text/plain": [
              "<xarray.Dataset> Size: 1MB\n",
              "Dimensions:  (time: 49376)\n",
              "Coordinates:\n",
              "  * time     (time) datetime64[ns] 395kB 2017-01-01T08:08:42.014416896 ... 20...\n",
              "    lon      (time) float64 395kB ...\n",
              "    lat      (time) float64 395kB ...\n",
              "Data variables:\n",
              "    ssh      (time) float32 198kB ...\n",
              "Attributes: (12/44)\n",
              "    Conventions:                     CF-1.6\n",
              "    Metadata_Conventions:            Unidata Dataset Discovery v1.0\n",
              "    cdm_data_type:                   Swath\n",
              "    comment:                         Sea surface height measured by altimeter...\n",
              "    contact:                         servicedesk.cmems@mercator-ocean.eu\n",
              "    creator_email:                   servicedesk.cmems@mercator-ocean.eu\n",
              "    ...                              ...\n",
              "    summary:                         SSALTO/DUACS Delayed-Time Level-3 sea su...\n",
              "    time_coverage_duration:          P23H48M0.25825S\n",
              "    time_coverage_end:               2017-08-28T23:14:24Z\n",
              "    time_coverage_resolution:        P1S\n",
              "    time_coverage_start:             2017-08-27T23:26:24Z\n",
              "    title:                           DT Cryosat-2 Global Ocean Along track SS..."
            ],
            "text/html": [
              "<div><svg style=\"position: absolute; width: 0; height: 0; overflow: hidden\">\n",
              "<defs>\n",
              "<symbol id=\"icon-database\" viewBox=\"0 0 32 32\">\n",
              "<path d=\"M16 0c-8.837 0-16 2.239-16 5v4c0 2.761 7.163 5 16 5s16-2.239 16-5v-4c0-2.761-7.163-5-16-5z\"></path>\n",
              "<path d=\"M16 17c-8.837 0-16-2.239-16-5v6c0 2.761 7.163 5 16 5s16-2.239 16-5v-6c0 2.761-7.163 5-16 5z\"></path>\n",
              "<path d=\"M16 26c-8.837 0-16-2.239-16-5v6c0 2.761 7.163 5 16 5s16-2.239 16-5v-6c0 2.761-7.163 5-16 5z\"></path>\n",
              "</symbol>\n",
              "<symbol id=\"icon-file-text2\" viewBox=\"0 0 32 32\">\n",
              "<path d=\"M28.681 7.159c-0.694-0.947-1.662-2.053-2.724-3.116s-2.169-2.030-3.116-2.724c-1.612-1.182-2.393-1.319-2.841-1.319h-15.5c-1.378 0-2.5 1.121-2.5 2.5v27c0 1.378 1.122 2.5 2.5 2.5h23c1.378 0 2.5-1.122 2.5-2.5v-19.5c0-0.448-0.137-1.23-1.319-2.841zM24.543 5.457c0.959 0.959 1.712 1.825 2.268 2.543h-4.811v-4.811c0.718 0.556 1.584 1.309 2.543 2.268zM28 29.5c0 0.271-0.229 0.5-0.5 0.5h-23c-0.271 0-0.5-0.229-0.5-0.5v-27c0-0.271 0.229-0.5 0.5-0.5 0 0 15.499-0 15.5 0v7c0 0.552 0.448 1 1 1h7v19.5z\"></path>\n",
              "<path d=\"M23 26h-14c-0.552 0-1-0.448-1-1s0.448-1 1-1h14c0.552 0 1 0.448 1 1s-0.448 1-1 1z\"></path>\n",
              "<path d=\"M23 22h-14c-0.552 0-1-0.448-1-1s0.448-1 1-1h14c0.552 0 1 0.448 1 1s-0.448 1-1 1z\"></path>\n",
              "<path d=\"M23 18h-14c-0.552 0-1-0.448-1-1s0.448-1 1-1h14c0.552 0 1 0.448 1 1s-0.448 1-1 1z\"></path>\n",
              "</symbol>\n",
              "</defs>\n",
              "</svg>\n",
              "<style>/* CSS stylesheet for displaying xarray objects in jupyterlab.\n",
              " *\n",
              " */\n",
              "\n",
              ":root {\n",
              "  --xr-font-color0: var(--jp-content-font-color0, rgba(0, 0, 0, 1));\n",
              "  --xr-font-color2: var(--jp-content-font-color2, rgba(0, 0, 0, 0.54));\n",
              "  --xr-font-color3: var(--jp-content-font-color3, rgba(0, 0, 0, 0.38));\n",
              "  --xr-border-color: var(--jp-border-color2, #e0e0e0);\n",
              "  --xr-disabled-color: var(--jp-layout-color3, #bdbdbd);\n",
              "  --xr-background-color: var(--jp-layout-color0, white);\n",
              "  --xr-background-color-row-even: var(--jp-layout-color1, white);\n",
              "  --xr-background-color-row-odd: var(--jp-layout-color2, #eeeeee);\n",
              "}\n",
              "\n",
              "html[theme=dark],\n",
              "body[data-theme=dark],\n",
              "body.vscode-dark {\n",
              "  --xr-font-color0: rgba(255, 255, 255, 1);\n",
              "  --xr-font-color2: rgba(255, 255, 255, 0.54);\n",
              "  --xr-font-color3: rgba(255, 255, 255, 0.38);\n",
              "  --xr-border-color: #1F1F1F;\n",
              "  --xr-disabled-color: #515151;\n",
              "  --xr-background-color: #111111;\n",
              "  --xr-background-color-row-even: #111111;\n",
              "  --xr-background-color-row-odd: #313131;\n",
              "}\n",
              "\n",
              ".xr-wrap {\n",
              "  display: block !important;\n",
              "  min-width: 300px;\n",
              "  max-width: 700px;\n",
              "}\n",
              "\n",
              ".xr-text-repr-fallback {\n",
              "  /* fallback to plain text repr when CSS is not injected (untrusted notebook) */\n",
              "  display: none;\n",
              "}\n",
              "\n",
              ".xr-header {\n",
              "  padding-top: 6px;\n",
              "  padding-bottom: 6px;\n",
              "  margin-bottom: 4px;\n",
              "  border-bottom: solid 1px var(--xr-border-color);\n",
              "}\n",
              "\n",
              ".xr-header > div,\n",
              ".xr-header > ul {\n",
              "  display: inline;\n",
              "  margin-top: 0;\n",
              "  margin-bottom: 0;\n",
              "}\n",
              "\n",
              ".xr-obj-type,\n",
              ".xr-array-name {\n",
              "  margin-left: 2px;\n",
              "  margin-right: 10px;\n",
              "}\n",
              "\n",
              ".xr-obj-type {\n",
              "  color: var(--xr-font-color2);\n",
              "}\n",
              "\n",
              ".xr-sections {\n",
              "  padding-left: 0 !important;\n",
              "  display: grid;\n",
              "  grid-template-columns: 150px auto auto 1fr 20px 20px;\n",
              "}\n",
              "\n",
              ".xr-section-item {\n",
              "  display: contents;\n",
              "}\n",
              "\n",
              ".xr-section-item input {\n",
              "  display: none;\n",
              "}\n",
              "\n",
              ".xr-section-item input + label {\n",
              "  color: var(--xr-disabled-color);\n",
              "}\n",
              "\n",
              ".xr-section-item input:enabled + label {\n",
              "  cursor: pointer;\n",
              "  color: var(--xr-font-color2);\n",
              "}\n",
              "\n",
              ".xr-section-item input:enabled + label:hover {\n",
              "  color: var(--xr-font-color0);\n",
              "}\n",
              "\n",
              ".xr-section-summary {\n",
              "  grid-column: 1;\n",
              "  color: var(--xr-font-color2);\n",
              "  font-weight: 500;\n",
              "}\n",
              "\n",
              ".xr-section-summary > span {\n",
              "  display: inline-block;\n",
              "  padding-left: 0.5em;\n",
              "}\n",
              "\n",
              ".xr-section-summary-in:disabled + label {\n",
              "  color: var(--xr-font-color2);\n",
              "}\n",
              "\n",
              ".xr-section-summary-in + label:before {\n",
              "  display: inline-block;\n",
              "  content: '►';\n",
              "  font-size: 11px;\n",
              "  width: 15px;\n",
              "  text-align: center;\n",
              "}\n",
              "\n",
              ".xr-section-summary-in:disabled + label:before {\n",
              "  color: var(--xr-disabled-color);\n",
              "}\n",
              "\n",
              ".xr-section-summary-in:checked + label:before {\n",
              "  content: '▼';\n",
              "}\n",
              "\n",
              ".xr-section-summary-in:checked + label > span {\n",
              "  display: none;\n",
              "}\n",
              "\n",
              ".xr-section-summary,\n",
              ".xr-section-inline-details {\n",
              "  padding-top: 4px;\n",
              "  padding-bottom: 4px;\n",
              "}\n",
              "\n",
              ".xr-section-inline-details {\n",
              "  grid-column: 2 / -1;\n",
              "}\n",
              "\n",
              ".xr-section-details {\n",
              "  display: none;\n",
              "  grid-column: 1 / -1;\n",
              "  margin-bottom: 5px;\n",
              "}\n",
              "\n",
              ".xr-section-summary-in:checked ~ .xr-section-details {\n",
              "  display: contents;\n",
              "}\n",
              "\n",
              ".xr-array-wrap {\n",
              "  grid-column: 1 / -1;\n",
              "  display: grid;\n",
              "  grid-template-columns: 20px auto;\n",
              "}\n",
              "\n",
              ".xr-array-wrap > label {\n",
              "  grid-column: 1;\n",
              "  vertical-align: top;\n",
              "}\n",
              "\n",
              ".xr-preview {\n",
              "  color: var(--xr-font-color3);\n",
              "}\n",
              "\n",
              ".xr-array-preview,\n",
              ".xr-array-data {\n",
              "  padding: 0 5px !important;\n",
              "  grid-column: 2;\n",
              "}\n",
              "\n",
              ".xr-array-data,\n",
              ".xr-array-in:checked ~ .xr-array-preview {\n",
              "  display: none;\n",
              "}\n",
              "\n",
              ".xr-array-in:checked ~ .xr-array-data,\n",
              ".xr-array-preview {\n",
              "  display: inline-block;\n",
              "}\n",
              "\n",
              ".xr-dim-list {\n",
              "  display: inline-block !important;\n",
              "  list-style: none;\n",
              "  padding: 0 !important;\n",
              "  margin: 0;\n",
              "}\n",
              "\n",
              ".xr-dim-list li {\n",
              "  display: inline-block;\n",
              "  padding: 0;\n",
              "  margin: 0;\n",
              "}\n",
              "\n",
              ".xr-dim-list:before {\n",
              "  content: '(';\n",
              "}\n",
              "\n",
              ".xr-dim-list:after {\n",
              "  content: ')';\n",
              "}\n",
              "\n",
              ".xr-dim-list li:not(:last-child):after {\n",
              "  content: ',';\n",
              "  padding-right: 5px;\n",
              "}\n",
              "\n",
              ".xr-has-index {\n",
              "  font-weight: bold;\n",
              "}\n",
              "\n",
              ".xr-var-list,\n",
              ".xr-var-item {\n",
              "  display: contents;\n",
              "}\n",
              "\n",
              ".xr-var-item > div,\n",
              ".xr-var-item label,\n",
              ".xr-var-item > .xr-var-name span {\n",
              "  background-color: var(--xr-background-color-row-even);\n",
              "  margin-bottom: 0;\n",
              "}\n",
              "\n",
              ".xr-var-item > .xr-var-name:hover span {\n",
              "  padding-right: 5px;\n",
              "}\n",
              "\n",
              ".xr-var-list > li:nth-child(odd) > div,\n",
              ".xr-var-list > li:nth-child(odd) > label,\n",
              ".xr-var-list > li:nth-child(odd) > .xr-var-name span {\n",
              "  background-color: var(--xr-background-color-row-odd);\n",
              "}\n",
              "\n",
              ".xr-var-name {\n",
              "  grid-column: 1;\n",
              "}\n",
              "\n",
              ".xr-var-dims {\n",
              "  grid-column: 2;\n",
              "}\n",
              "\n",
              ".xr-var-dtype {\n",
              "  grid-column: 3;\n",
              "  text-align: right;\n",
              "  color: var(--xr-font-color2);\n",
              "}\n",
              "\n",
              ".xr-var-preview {\n",
              "  grid-column: 4;\n",
              "}\n",
              "\n",
              ".xr-index-preview {\n",
              "  grid-column: 2 / 5;\n",
              "  color: var(--xr-font-color2);\n",
              "}\n",
              "\n",
              ".xr-var-name,\n",
              ".xr-var-dims,\n",
              ".xr-var-dtype,\n",
              ".xr-preview,\n",
              ".xr-attrs dt {\n",
              "  white-space: nowrap;\n",
              "  overflow: hidden;\n",
              "  text-overflow: ellipsis;\n",
              "  padding-right: 10px;\n",
              "}\n",
              "\n",
              ".xr-var-name:hover,\n",
              ".xr-var-dims:hover,\n",
              ".xr-var-dtype:hover,\n",
              ".xr-attrs dt:hover {\n",
              "  overflow: visible;\n",
              "  width: auto;\n",
              "  z-index: 1;\n",
              "}\n",
              "\n",
              ".xr-var-attrs,\n",
              ".xr-var-data,\n",
              ".xr-index-data {\n",
              "  display: none;\n",
              "  background-color: var(--xr-background-color) !important;\n",
              "  padding-bottom: 5px !important;\n",
              "}\n",
              "\n",
              ".xr-var-attrs-in:checked ~ .xr-var-attrs,\n",
              ".xr-var-data-in:checked ~ .xr-var-data,\n",
              ".xr-index-data-in:checked ~ .xr-index-data {\n",
              "  display: block;\n",
              "}\n",
              "\n",
              ".xr-var-data > table {\n",
              "  float: right;\n",
              "}\n",
              "\n",
              ".xr-var-name span,\n",
              ".xr-var-data,\n",
              ".xr-index-name div,\n",
              ".xr-index-data,\n",
              ".xr-attrs {\n",
              "  padding-left: 25px !important;\n",
              "}\n",
              "\n",
              ".xr-attrs,\n",
              ".xr-var-attrs,\n",
              ".xr-var-data,\n",
              ".xr-index-data {\n",
              "  grid-column: 1 / -1;\n",
              "}\n",
              "\n",
              "dl.xr-attrs {\n",
              "  padding: 0;\n",
              "  margin: 0;\n",
              "  display: grid;\n",
              "  grid-template-columns: 125px auto;\n",
              "}\n",
              "\n",
              ".xr-attrs dt,\n",
              ".xr-attrs dd {\n",
              "  padding: 0;\n",
              "  margin: 0;\n",
              "  float: left;\n",
              "  padding-right: 10px;\n",
              "  width: auto;\n",
              "}\n",
              "\n",
              ".xr-attrs dt {\n",
              "  font-weight: normal;\n",
              "  grid-column: 1;\n",
              "}\n",
              "\n",
              ".xr-attrs dt:hover span {\n",
              "  display: inline-block;\n",
              "  background: var(--xr-background-color);\n",
              "  padding-right: 10px;\n",
              "}\n",
              "\n",
              ".xr-attrs dd {\n",
              "  grid-column: 2;\n",
              "  white-space: pre-wrap;\n",
              "  word-break: break-all;\n",
              "}\n",
              "\n",
              ".xr-icon-database,\n",
              ".xr-icon-file-text2,\n",
              ".xr-no-icon {\n",
              "  display: inline-block;\n",
              "  vertical-align: middle;\n",
              "  width: 1em;\n",
              "  height: 1.5em !important;\n",
              "  stroke-width: 0;\n",
              "  stroke: currentColor;\n",
              "  fill: currentColor;\n",
              "}\n",
              "</style><pre class='xr-text-repr-fallback'>&lt;xarray.Dataset&gt; Size: 1MB\n",
              "Dimensions:  (time: 49376)\n",
              "Coordinates:\n",
              "  * time     (time) datetime64[ns] 395kB 2017-01-01T08:08:42.014416896 ... 20...\n",
              "    lon      (time) float64 395kB ...\n",
              "    lat      (time) float64 395kB ...\n",
              "Data variables:\n",
              "    ssh      (time) float32 198kB ...\n",
              "Attributes: (12/44)\n",
              "    Conventions:                     CF-1.6\n",
              "    Metadata_Conventions:            Unidata Dataset Discovery v1.0\n",
              "    cdm_data_type:                   Swath\n",
              "    comment:                         Sea surface height measured by altimeter...\n",
              "    contact:                         servicedesk.cmems@mercator-ocean.eu\n",
              "    creator_email:                   servicedesk.cmems@mercator-ocean.eu\n",
              "    ...                              ...\n",
              "    summary:                         SSALTO/DUACS Delayed-Time Level-3 sea su...\n",
              "    time_coverage_duration:          P23H48M0.25825S\n",
              "    time_coverage_end:               2017-08-28T23:14:24Z\n",
              "    time_coverage_resolution:        P1S\n",
              "    time_coverage_start:             2017-08-27T23:26:24Z\n",
              "    title:                           DT Cryosat-2 Global Ocean Along track SS...</pre><div class='xr-wrap' style='display:none'><div class='xr-header'><div class='xr-obj-type'>xarray.Dataset</div></div><ul class='xr-sections'><li class='xr-section-item'><input id='section-c3a235fa-9145-4b97-bdfd-0a96e1ed8d77' class='xr-section-summary-in' type='checkbox' disabled ><label for='section-c3a235fa-9145-4b97-bdfd-0a96e1ed8d77' class='xr-section-summary'  title='Expand/collapse section'>Dimensions:</label><div class='xr-section-inline-details'><ul class='xr-dim-list'><li><span class='xr-has-index'>time</span>: 49376</li></ul></div><div class='xr-section-details'></div></li><li class='xr-section-item'><input id='section-7a85fc7d-9f06-41d5-aa76-89292585370f' class='xr-section-summary-in' type='checkbox'  checked><label for='section-7a85fc7d-9f06-41d5-aa76-89292585370f' class='xr-section-summary' >Coordinates: <span>(3)</span></label><div class='xr-section-inline-details'></div><div class='xr-section-details'><ul class='xr-var-list'><li class='xr-var-item'><div class='xr-var-name'><span class='xr-has-index'>time</span></div><div class='xr-var-dims'>(time)</div><div class='xr-var-dtype'>datetime64[ns]</div><div class='xr-var-preview xr-preview'>2017-01-01T08:08:42.014416896 .....</div><input id='attrs-651079c5-fc5d-4cfe-b148-25ac24cb537d' class='xr-var-attrs-in' type='checkbox' disabled><label for='attrs-651079c5-fc5d-4cfe-b148-25ac24cb537d' title='Show/Hide attributes'><svg class='icon xr-icon-file-text2'><use xlink:href='#icon-file-text2'></use></svg></label><input id='data-15292fa3-9a6b-4c88-946e-f667bec2cc8d' class='xr-var-data-in' type='checkbox'><label for='data-15292fa3-9a6b-4c88-946e-f667bec2cc8d' title='Show/Hide data repr'><svg class='icon xr-icon-database'><use xlink:href='#icon-database'></use></svg></label><div class='xr-var-attrs'><dl class='xr-attrs'></dl></div><div class='xr-var-data'><pre>array([&#x27;2017-01-01T08:08:42.014416896&#x27;, &#x27;2017-01-01T08:08:42.957817088&#x27;,\n",
              "       &#x27;2017-01-01T08:08:43.901217024&#x27;, ..., &#x27;2017-12-31T14:00:07.582258944&#x27;,\n",
              "       &#x27;2017-12-31T14:00:08.525658880&#x27;, &#x27;2017-12-31T14:00:09.469059072&#x27;],\n",
              "      dtype=&#x27;datetime64[ns]&#x27;)</pre></div></li><li class='xr-var-item'><div class='xr-var-name'><span>lon</span></div><div class='xr-var-dims'>(time)</div><div class='xr-var-dtype'>float64</div><div class='xr-var-preview xr-preview'>...</div><input id='attrs-3577b552-7d4c-4310-a33e-d50d407d8af5' class='xr-var-attrs-in' type='checkbox' ><label for='attrs-3577b552-7d4c-4310-a33e-d50d407d8af5' title='Show/Hide attributes'><svg class='icon xr-icon-file-text2'><use xlink:href='#icon-file-text2'></use></svg></label><input id='data-abdeda84-3281-4c6d-82fd-3d1ddeb00afb' class='xr-var-data-in' type='checkbox'><label for='data-abdeda84-3281-4c6d-82fd-3d1ddeb00afb' title='Show/Hide data repr'><svg class='icon xr-icon-database'><use xlink:href='#icon-database'></use></svg></label><div class='xr-var-attrs'><dl class='xr-attrs'><dt><span>units :</span></dt><dd>degrees_east</dd><dt><span>standard_name :</span></dt><dd>longitude</dd><dt><span>long_name :</span></dt><dd>Longitude of measurement</dd></dl></div><div class='xr-var-data'><pre>[49376 values with dtype=float64]</pre></div></li><li class='xr-var-item'><div class='xr-var-name'><span>lat</span></div><div class='xr-var-dims'>(time)</div><div class='xr-var-dtype'>float64</div><div class='xr-var-preview xr-preview'>...</div><input id='attrs-846e8392-9753-4ff7-a7d3-9d2f8cfd9992' class='xr-var-attrs-in' type='checkbox' ><label for='attrs-846e8392-9753-4ff7-a7d3-9d2f8cfd9992' title='Show/Hide attributes'><svg class='icon xr-icon-file-text2'><use xlink:href='#icon-file-text2'></use></svg></label><input id='data-e7de37cb-e2dc-48f4-9ba3-3a55d0a5de2c' class='xr-var-data-in' type='checkbox'><label for='data-e7de37cb-e2dc-48f4-9ba3-3a55d0a5de2c' title='Show/Hide data repr'><svg class='icon xr-icon-database'><use xlink:href='#icon-database'></use></svg></label><div class='xr-var-attrs'><dl class='xr-attrs'><dt><span>units :</span></dt><dd>degrees_north</dd><dt><span>standard_name :</span></dt><dd>latitude</dd><dt><span>long_name :</span></dt><dd>Latitude of measurement</dd></dl></div><div class='xr-var-data'><pre>[49376 values with dtype=float64]</pre></div></li></ul></div></li><li class='xr-section-item'><input id='section-a8d3ae25-50bb-48b8-8a5c-843a067daeb6' class='xr-section-summary-in' type='checkbox'  checked><label for='section-a8d3ae25-50bb-48b8-8a5c-843a067daeb6' class='xr-section-summary' >Data variables: <span>(1)</span></label><div class='xr-section-inline-details'></div><div class='xr-section-details'><ul class='xr-var-list'><li class='xr-var-item'><div class='xr-var-name'><span>ssh</span></div><div class='xr-var-dims'>(time)</div><div class='xr-var-dtype'>float32</div><div class='xr-var-preview xr-preview'>...</div><input id='attrs-057102e0-c0eb-47b1-b1a8-6283023e698c' class='xr-var-attrs-in' type='checkbox' ><label for='attrs-057102e0-c0eb-47b1-b1a8-6283023e698c' title='Show/Hide attributes'><svg class='icon xr-icon-file-text2'><use xlink:href='#icon-file-text2'></use></svg></label><input id='data-7e13366d-3781-492e-9bea-a02121a2b310' class='xr-var-data-in' type='checkbox'><label for='data-7e13366d-3781-492e-9bea-a02121a2b310' title='Show/Hide data repr'><svg class='icon xr-icon-database'><use xlink:href='#icon-database'></use></svg></label><div class='xr-var-attrs'><dl class='xr-attrs'><dt><span>units :</span></dt><dd>m</dd><dt><span>standard_name :</span></dt><dd>sea_surface_height</dd><dt><span>long_name :</span></dt><dd>Sea Surface Height</dd></dl></div><div class='xr-var-data'><pre>[49376 values with dtype=float32]</pre></div></li></ul></div></li><li class='xr-section-item'><input id='section-1b723b3a-e13c-4c48-aa65-7fbbb2f2a914' class='xr-section-summary-in' type='checkbox'  ><label for='section-1b723b3a-e13c-4c48-aa65-7fbbb2f2a914' class='xr-section-summary' >Indexes: <span>(1)</span></label><div class='xr-section-inline-details'></div><div class='xr-section-details'><ul class='xr-var-list'><li class='xr-var-item'><div class='xr-index-name'><div>time</div></div><div class='xr-index-preview'>PandasIndex</div><div></div><input id='index-d9c1103e-d2f2-437f-9889-364b368ff53a' class='xr-index-data-in' type='checkbox'/><label for='index-d9c1103e-d2f2-437f-9889-364b368ff53a' title='Show/Hide index repr'><svg class='icon xr-icon-database'><use xlink:href='#icon-database'></use></svg></label><div class='xr-index-data'><pre>PandasIndex(DatetimeIndex([&#x27;2017-01-01 08:08:42.014416896&#x27;,\n",
              "               &#x27;2017-01-01 08:08:42.957817088&#x27;,\n",
              "               &#x27;2017-01-01 08:08:43.901217024&#x27;,\n",
              "               &#x27;2017-01-01 08:08:44.844617216&#x27;,\n",
              "               &#x27;2017-01-01 08:08:45.788016896&#x27;,\n",
              "               &#x27;2017-01-01 08:08:46.731417088&#x27;,\n",
              "               &#x27;2017-01-01 08:08:47.674817024&#x27;,\n",
              "               &#x27;2017-01-01 08:08:48.618217216&#x27;,\n",
              "               &#x27;2017-01-01 08:08:49.561617152&#x27;,\n",
              "               &#x27;2017-01-01 08:08:50.505016832&#x27;,\n",
              "               ...\n",
              "               &#x27;2017-12-31 14:00:00.978459136&#x27;,\n",
              "               &#x27;2017-12-31 14:00:01.921859072&#x27;,\n",
              "               &#x27;2017-12-31 14:00:02.865259008&#x27;,\n",
              "               &#x27;2017-12-31 14:00:03.808658944&#x27;,\n",
              "               &#x27;2017-12-31 14:00:04.752059136&#x27;,\n",
              "               &#x27;2017-12-31 14:00:05.695459072&#x27;,\n",
              "               &#x27;2017-12-31 14:00:06.638858752&#x27;,\n",
              "               &#x27;2017-12-31 14:00:07.582258944&#x27;,\n",
              "               &#x27;2017-12-31 14:00:08.525658880&#x27;,\n",
              "               &#x27;2017-12-31 14:00:09.469059072&#x27;],\n",
              "              dtype=&#x27;datetime64[ns]&#x27;, name=&#x27;time&#x27;, length=49376, freq=None))</pre></div></li></ul></div></li><li class='xr-section-item'><input id='section-d6dd16b5-3943-4f36-bb0d-d7e5de39596a' class='xr-section-summary-in' type='checkbox'  ><label for='section-d6dd16b5-3943-4f36-bb0d-d7e5de39596a' class='xr-section-summary' >Attributes: <span>(44)</span></label><div class='xr-section-inline-details'></div><div class='xr-section-details'><dl class='xr-attrs'><dt><span>Conventions :</span></dt><dd>CF-1.6</dd><dt><span>Metadata_Conventions :</span></dt><dd>Unidata Dataset Discovery v1.0</dd><dt><span>cdm_data_type :</span></dt><dd>Swath</dd><dt><span>comment :</span></dt><dd>Sea surface height measured by altimeters referenced to the [1993, 2012] period; with additional corrections; the proposed sla is already corrected for dac, ocean_tide and lwe; [uncorrected sla]=[sla from product]+[dac]+[ocean_tide]-[lwe]</dd><dt><span>contact :</span></dt><dd>servicedesk.cmems@mercator-ocean.eu</dd><dt><span>creator_email :</span></dt><dd>servicedesk.cmems@mercator-ocean.eu</dd><dt><span>creator_name :</span></dt><dd>CMEMS - Sea Level Thematic Assembly Center</dd><dt><span>creator_url :</span></dt><dd>http://marine.copernicus.eu</dd><dt><span>date_created :</span></dt><dd>2021-09-09T07:52:21Z</dd><dt><span>date_issued :</span></dt><dd>2021-09-09T07:52:21Z</dd><dt><span>date_modified :</span></dt><dd>2021-09-09T07:52:21Z</dd><dt><span>geospatial_lat_max :</span></dt><dd>81.798492</dd><dt><span>geospatial_lat_min :</span></dt><dd>-66.34298199999999</dd><dt><span>geospatial_lat_resolution :</span></dt><dd>0.0564679999999953</dd><dt><span>geospatial_lat_units :</span></dt><dd>degrees_north</dd><dt><span>geospatial_lon_max :</span></dt><dd>359.99478999999997</dd><dt><span>geospatial_lon_min :</span></dt><dd>0.001383</dd><dt><span>geospatial_lon_resolution :</span></dt><dd>0.006762000000001933</dd><dt><span>geospatial_lon_units :</span></dt><dd>degrees_east</dd><dt><span>geospatial_vertical_max :</span></dt><dd>0.0</dd><dt><span>geospatial_vertical_min :</span></dt><dd>0.0</dd><dt><span>geospatial_vertical_positive :</span></dt><dd>down</dd><dt><span>geospatial_vertical_resolution :</span></dt><dd>point</dd><dt><span>geospatial_vertical_units :</span></dt><dd>m</dd><dt><span>history :</span></dt><dd>2021-09-09T07:52:21Z: Creation</dd><dt><span>institution :</span></dt><dd>CLS, CNES</dd><dt><span>keywords :</span></dt><dd>Oceans &gt; Ocean Topography &gt; Sea Surface Height</dd><dt><span>keywords_vocabulary :</span></dt><dd>NetCDF COARDS Climate and Forecast Standard Names</dd><dt><span>license :</span></dt><dd>http://marine.copernicus.eu/web/27-service-commitments-and-licence.php</dd><dt><span>platform :</span></dt><dd>Cryosat-2</dd><dt><span>processing_level :</span></dt><dd>L3</dd><dt><span>product_version :</span></dt><dd>vDec2021</dd><dt><span>project :</span></dt><dd>COPERNICUS MARINE ENVIRONMENT MONITORING SERVICE (CMEMS)</dd><dt><span>references :</span></dt><dd>http://marine.copernicus.eu</dd><dt><span>software_version :</span></dt><dd>7.0_DUACS_DT2021_baseline</dd><dt><span>source :</span></dt><dd>Cryosat-2 measurements</dd><dt><span>ssalto_duacs_comment :</span></dt><dd>The reference mission used for the altimeter inter-calibration processing is Topex/Poseidon between 1993-01-01 and 2002-04-23, Jason-1 between 2002-04-24 and 2008-10-18, OSTM/Jason-2 between 2008-10-19 and 2016-06-25, Jason-3 since 2016-06-25.</dd><dt><span>standard_name_vocabulary :</span></dt><dd>NetCDF Climate and Forecast (CF) Metadata Convention Standard Name Table v37</dd><dt><span>summary :</span></dt><dd>SSALTO/DUACS Delayed-Time Level-3 sea surface height measured by Cryosat-2 altimetry observations over Global Ocean.</dd><dt><span>time_coverage_duration :</span></dt><dd>P23H48M0.25825S</dd><dt><span>time_coverage_end :</span></dt><dd>2017-08-28T23:14:24Z</dd><dt><span>time_coverage_resolution :</span></dt><dd>P1S</dd><dt><span>time_coverage_start :</span></dt><dd>2017-08-27T23:26:24Z</dd><dt><span>title :</span></dt><dd>DT Cryosat-2 Global Ocean Along track SSALTO/DUACS Sea Surface Height L3 product</dd></dl></div></li></ul></div></div>"
            ]
          },
          "metadata": {},
          "execution_count": 27
        }
      ]
    },
    {
      "cell_type": "markdown",
      "source": [
        "## See benchmarked methods"
      ],
      "metadata": {
        "id": "YnK2toKpxBZ8"
      }
    },
    {
      "cell_type": "code",
      "source": [
        "# a method has a name, a link to a netcdf and the variable of the field\n",
        "!cat methods.yaml"
      ],
      "metadata": {
        "colab": {
          "base_uri": "https://localhost:8080/"
        },
        "id": "8wwWehs-0Zho",
        "outputId": "d0a71ca9-9d1c-4dc3-f6ee-29472e527d81"
      },
      "execution_count": 29,
      "outputs": [
        {
          "output_type": "stream",
          "name": "stdout",
          "text": [
            "methods:\n",
            "- name: 4dvarnet\n",
            "  var: rec_ssh\n",
            "  url: https://s3.eu-west-2.wasabisys.com/oceanbench-data-registry/dvc/a5/2381e9409cb7c6cf9be980bda9aced\n",
            "- name: miost\n",
            "  var: ssh\n",
            "  url: https://s3.eu-west-2.wasabisys.com/oceanbench-data-registry/dvc/4f/014481eed0088eb9a0cf329ebf045b\n",
            "- name: bfn\n",
            "  var: ssh\n",
            "  url: https://s3.eu-west-2.wasabisys.com/oceanbench-data-registry/dvc/29/6781b126d905e98b82dac9bcecf57e\n",
            "- name: duacs\n",
            "  var: ssh\n",
            "  url: https://s3.eu-west-2.wasabisys.com/oceanbench-data-registry/dvc/95/7d74696fbf5f2b6d0c528757951b8a\n",
            "- name: dymost\n",
            "  var: ssh\n",
            "  url: https://s3.eu-west-2.wasabisys.com/oceanbench-data-registry/dvc/1f/6fc60bba2ef471ff845b4cdcc18f6a\n",
            "\n"
          ]
        }
      ]
    },
    {
      "cell_type": "markdown",
      "source": [
        "## Add a new method"
      ],
      "metadata": {
        "id": "o9v5teW0xUvF"
      }
    },
    {
      "cell_type": "code",
      "source": [
        "!dvc dag --out compute_lambdax@5"
      ],
      "metadata": {
        "colab": {
          "base_uri": "https://localhost:8080/"
        },
        "id": "NZcizoy89m28",
        "outputId": "e980796c-c2c7-49d3-f13c-a049b29ce648"
      },
      "execution_count": 62,
      "outputs": [
        {
          "output_type": "stream",
          "name": "stdout",
          "text": [
            "\u001b[31mERROR\u001b[39m: 'compute_lambdax@6' does not exist as an output or a stage name in 'dvc.yaml': Stage 'compute_lambdax@6' not found inside 'dvc.yaml' file\n",
            "\u001b[0m"
          ]
        }
      ]
    },
    {
      "cell_type": "code",
      "source": [
        "%%bash\n",
        "echo \"\n",
        "- name: musti\n",
        "  var: ssh\n",
        "  url: https://s3.eu-west-2.wasabisys.com/oceanbench-data-registry/dvc/0d/43f1639d5d21324bea07f1fd4cdc9d\n",
        "\" >> methods.yaml"
      ],
      "metadata": {
        "id": "zFt4sxXYxT8P"
      },
      "execution_count": 32,
      "outputs": []
    },
    {
      "cell_type": "code",
      "source": [
        "# New steps have been added to the grap\n",
        "!dvc dag --out compute_lambdax@5"
      ],
      "metadata": {
        "colab": {
          "base_uri": "https://localhost:8080/"
        },
        "id": "jk0TQunY1LWC",
        "outputId": "5b58c430-4700-4836-f740-880ec43cac4c"
      },
      "execution_count": 36,
      "outputs": [
        {
          "output_type": "stream",
          "name": "stdout",
          "text": [
            "                                +---------------------+                                                           +------------------------------+\n",
            "                                | data/prepared/c2.nc |*******                                                    | data/method_outputs/musti.nc |\n",
            "                                +---------------------+       ****************                                    +------------------------------+\n",
            "                            ****                       *****                  ***************                                     *\n",
            "                       *****                                *****                            ****************                     *\n",
            "                   ****                                          ****                                        ********             *\n",
            "                ***                                                  *****                                    +---------------------------------------+\n",
            "                *                                                         *****                      *********| data/method_outputs/musti_on_track.nc |\n",
            "                *                                                              **********************         +---------------------------------------+\n",
            "                *                                            ********************   *****                         *****\n",
            "                *                        ********************                            *****               *****\n",
            "                *             ***********                                                     ***         ***\n",
            "+-----------------------------+                                                    +---------------------------------+\n",
            "| data/metrics/psd_musti.json |                                                    | data/metrics/lambdax_musti.json |\n",
            "+-----------------------------+                                                    +---------------------------------+\n",
            "\u001b[0m"
          ]
        }
      ]
    },
    {
      "cell_type": "code",
      "source": [
        "# Compute the metrics\n",
        "!dvc freeze fetch_reference_data #we do not want to download again the raw tracks\n",
        "!dvc repro -k --pull compute_lambdax@5 #Take some time to read the output below to understand what is happening"
      ],
      "metadata": {
        "colab": {
          "base_uri": "https://localhost:8080/"
        },
        "id": "GqFLUvuN1zRe",
        "outputId": "12637190-2691-48b6-befe-2d5176f47e62"
      },
      "execution_count": 41,
      "outputs": [
        {
          "output_type": "stream",
          "name": "stdout",
          "text": [
            "Modifying stage 'fetch_reference_data' in 'dvc.yaml'\n",
            "\u001b[33mWARNING\u001b[39m: Failed to pull run cache: run-cache is not supported for http filesystem: https://s3.eu-west-2.wasabisys.com/oceanbench-data-registry/dvc\n",
            "Stage 'filter_and_merge_ref' didn't change, skipping\n",
            "Running stage 'method_output@5':\n",
            "> wget https://s3.eu-west-2.wasabisys.com/oceanbench-data-registry/dvc/0d/43f1639d5d21324bea07f1fd4cdc9d -nc -O 'data/method_outputs/musti.nc'\n",
            "--2024-02-22 12:47:22--  https://s3.eu-west-2.wasabisys.com/oceanbench-data-registry/dvc/0d/43f1639d5d21324bea07f1fd4cdc9d\n",
            "Resolving s3.eu-west-2.wasabisys.com (s3.eu-west-2.wasabisys.com)... 130.117.185.102, 130.117.185.100, 130.117.185.103, ...\n",
            "Connecting to s3.eu-west-2.wasabisys.com (s3.eu-west-2.wasabisys.com)|130.117.185.102|:443... connected.\n",
            "HTTP request sent, awaiting response... 200 OK\n",
            "Length: 292016649 (278M) [binary/octet-stream]\n",
            "Saving to: ‘data/method_outputs/musti.nc’\n",
            "\n",
            "data/method_outputs 100%[===================>] 278.49M  20.2MB/s    in 16s     \n",
            "\n",
            "2024-02-22 12:47:40 (17.3 MB/s) - ‘data/method_outputs/musti.nc’ saved [292016649/292016649]\n",
            "\n",
            "Updating lock file 'dvc.lock'\n",
            "\n",
            "Running stage 'interp_on_track@5':\n",
            "> qf_alongtrack_lambdax_from_map -cd . -cn stage_configs 'to_run=[interp_on_track]' 'stages.interp_on_track.grid_var=ssh' 'stages.method=musti'\n",
            "[2024-02-22 12:47:46,282][qf_interp_grid_on_track][INFO] - Starting\n",
            "Updating lock file 'dvc.lock'\n",
            "\n",
            "Running stage 'compute_lambdax@5':\n",
            "> qf_alongtrack_lambdax_from_map -cd . -cn stage_configs 'to_run=[lambdax]' 'stages.interp_on_track.grid_var=ssh' 'stages.method=musti'\n",
            "Updating lock file 'dvc.lock'\n",
            "\n",
            "To track the changes with git, run:\n",
            "\n",
            "\tgit add dvc.lock data/metrics/.gitignore\n",
            "\n",
            "To enable auto staging, run:\n",
            "\n",
            "\tdvc config core.autostage true\n",
            "Use `dvc push` to send your updates to remote storage.\n",
            "\u001b[0m"
          ]
        }
      ]
    },
    {
      "cell_type": "markdown",
      "source": [
        "Summary:\n",
        "- the stage filter_and_merge_ref which create the reference data didn't change so it wasn't rerun\n",
        "- the stage 'method_output@5' downloaded the data\n",
        "- the stage 'interp_on_track@5' interpolated the map on the reference track\n",
        "- the stage 'compute_lambdax@5' computed the lambdax\n",
        "\n",
        "Both stages 'compute_lambdax' and 'interp_on_track' used a command `qf_alongtrack_lambdax_from_map` which is the **pipeline** that we installed: see next section for more details"
      ],
      "metadata": {
        "id": "oLj4JaRO4NA1"
      }
    },
    {
      "cell_type": "code",
      "source": [
        "!cat data/metrics/lambdax_musti.json"
      ],
      "metadata": {
        "colab": {
          "base_uri": "https://localhost:8080/"
        },
        "id": "y5Ekqkgc29sB",
        "outputId": "143ef479-057f-459a-b91d-fb2277cd437e"
      },
      "execution_count": 42,
      "outputs": [
        {
          "output_type": "stream",
          "name": "stdout",
          "text": [
            "{\"lambdax\": 63.80801481059697}"
          ]
        }
      ]
    },
    {
      "cell_type": "markdown",
      "source": [
        "## Generate leaderboard"
      ],
      "metadata": {
        "id": "fp5qw8w93B7U"
      }
    },
    {
      "cell_type": "code",
      "source": [
        "# Fetch the results of other methods\n",
        "!dvc pull -q --allow-missing compute_lambdax\n",
        "# Display the metrics\n",
        "!dvc metrics show data/metrics/lambdax*.json"
      ],
      "metadata": {
        "colab": {
          "base_uri": "https://localhost:8080/"
        },
        "id": "7HWZhQtL3FgW",
        "outputId": "014341a2-b417-4f27-b07e-329daad9fbfe"
      },
      "execution_count": 49,
      "outputs": [
        {
          "output_type": "stream",
          "name": "stdout",
          "text": [
            "\u001b[0mPath                                lambdax\n",
            "data/metrics/lambdax_4dvarnet.json  48.75652\n",
            "data/metrics/lambdax_bfn.json       112.75704\n",
            "data/metrics/lambdax_duacs.json     16.36009\n",
            "data/metrics/lambdax_miost.json     90.97104\n",
            "data/metrics/lambdax_musti.json     63.80801\n",
            "\u001b[0m"
          ]
        }
      ]
    },
    {
      "cell_type": "markdown",
      "source": [
        "*Nota Bene: The values are still incoherent but fixing it will make a nice demonstration on how to recompute the metrics for all the methods*"
      ],
      "metadata": {
        "id": "usksqD9A3t0v"
      }
    },
    {
      "cell_type": "markdown",
      "source": [
        "# Pipelines are:\n",
        "- pip installable\n",
        "- runable as a CLI\n",
        "\n",
        "\n",
        "Example here: pipeline to compute lambda_x from a method output"
      ],
      "metadata": {
        "id": "FYULWVQ-rL1F"
      }
    },
    {
      "cell_type": "code",
      "source": [
        "# Help from the cli\n",
        "!qf_alongtrack_lambdax_from_map --help"
      ],
      "metadata": {
        "colab": {
          "base_uri": "https://localhost:8080/"
        },
        "id": "WFeSIHLC421w",
        "outputId": "89a0a356-03b9-4974-aeea-ab797314b602"
      },
      "execution_count": 8,
      "outputs": [
        {
          "output_type": "stream",
          "name": "stdout",
          "text": [
            "\n",
            "    Stages:\n",
            "        dl_tracks:\n",
            "    Download the SSH reprocessed tracks of a given satellite from copernicus marine store (requires cmems credentials)\n",
            "    more info with: `dz_download_ssh_tracks --help`\n",
            "\n",
            "        filter_and_merge:\n",
            "    Filter the input files with the given ranges and merge them into a single file \n",
            "    more info with: `qf_filter_merge_daily_ssh_tracks --help`\n",
            "\n",
            "        interp_on_track:\n",
            "    Interpolates the input grid data on the input alongtrack data\n",
            "    more info with: `qf_interp_grid_on_track --help`\n",
            "\n",
            "        lambdax:\n",
            "    Compute effective resolution lambda_x on the track geometry\n",
            "    more info with: `alongtrack_lambdax --help`\n",
            "\n",
            "== Configuration groups ==\n",
            "Compose your configuration from those groups (group=option)\n",
            "\n",
            "\n",
            "\n",
            "== Config ==\n",
            "Override anything in the config (foo.bar=value)\n",
            "\n",
            "_target_: qf_alongtrack_lambdax_from_map.run_pipeline\n",
            "to_run:\n",
            "- dl_tracks\n",
            "- filter_and_merge\n",
            "- interp_on_track\n",
            "- lambdax\n",
            "stages:\n",
            "  method: default\n",
            "  dl_tracks:\n",
            "    _target_: dz_download_ssh_tracks.run\n",
            "    _partial_: true\n",
            "    sat: c2\n",
            "    download_dir: data/downloads/${.sat}\n",
            "    min_time: '2017-01-01'\n",
            "    max_time: '2017-12-31'\n",
            "    filters:\n",
            "    - '*2017*'\n",
            "    _skip_val: false\n",
            "  filter_and_merge:\n",
            "    _target_: qf_filter_merge_daily_ssh_tracks.run\n",
            "    _partial_: true\n",
            "    input_dir: ${..dl_tracks.download_dir}\n",
            "    output_path: data/prepared/${..dl_tracks.sat}.nc\n",
            "    min_lon: -65.0\n",
            "    max_lon: -55.0\n",
            "    min_lat: 33.0\n",
            "    max_lat: 43.0\n",
            "    min_time: '2017-01-01'\n",
            "    max_time: '2018-01-01'\n",
            "    _skip_val: false\n",
            "  interp_on_track:\n",
            "    _target_: qf_interp_grid_on_track.run\n",
            "    _partial_: true\n",
            "    track_path: ${..filter_and_merge.output_path}\n",
            "    grid_path: data/method_outputs/${..method}.nc\n",
            "    grid_var: ???\n",
            "    output_path: data/method_outputs/${..method}_on_track.nc\n",
            "    _skip_val: false\n",
            "  lambdax:\n",
            "    _target_: alongtrack_lambdax.main_api\n",
            "    _partial_: true\n",
            "    study_path: ${..interp_on_track.output_path}\n",
            "    study_var: ${..interp_on_track.grid_var}\n",
            "    ref_path: ${..filter_and_merge.output_path}\n",
            "    ref_var: ssh\n",
            "    delta_t: 0.9434\n",
            "    velocity: 6.77\n",
            "    length_scale: 1000.0\n",
            "    segment_overlapping: 0.25\n",
            "    output_lambdax_path: data/metrics/lambdax_${..method}.json\n",
            "    output_psd_path: data/metrics/psd_${..method}.json\n",
            "\n",
            "\n",
            "Powered by Hydra (https://hydra.cc)\n",
            "Use --hydra-help to view Hydra specific help\n",
            "\n",
            "\n",
            "\u001b[0m"
          ]
        }
      ]
    },
    {
      "cell_type": "markdown",
      "source": [
        "## Run the first stage from the pipeline: downloading raw data"
      ],
      "metadata": {
        "id": "fhbEII8w5313"
      }
    },
    {
      "cell_type": "code",
      "source": [
        "# We lauch the dl_tracks stage and override the filter value to download a single file (of Jan 1st 2017)\n",
        "# CMEMS authentication is asked\n",
        "!qf_alongtrack_lambdax_from_map to_run=['dl_tracks'] stages.dl_tracks.filters='[*20170101*]'"
      ],
      "metadata": {
        "colab": {
          "base_uri": "https://localhost:8080/"
        },
        "id": "Kscx_EZU57hv",
        "outputId": "fcfa31db-daa1-4aca-faf8-a2f68c99fc60"
      },
      "execution_count": 55,
      "outputs": [
        {
          "output_type": "stream",
          "name": "stdout",
          "text": [
            "[2024-02-22 13:03:05,005][dz_download_ssh_tracks][INFO] - Starting\n",
            "username: qfebvre1\n",
            "password: \n",
            "Fetching catalog: 100% 4/4 [00:32<00:00,  8.11s/it]\n",
            "INFO - 2024-02-22T13:03:54Z - Dataset version was not specified, the latest one was selected: \"202112\"\n",
            "[2024-02-22 13:03:54,166][copernicus_marine_root_logger][INFO] - Dataset version was not specified, the latest one was selected: \"202112\"\n",
            "INFO - 2024-02-22T13:03:54Z - Dataset part was not specified, the first one was selected: \"default\"\n",
            "[2024-02-22 13:03:54,167][copernicus_marine_root_logger][INFO] - Dataset part was not specified, the first one was selected: \"default\"\n",
            "INFO - 2024-02-22T13:03:54Z - Service was not specified, the default one was selected: \"original-files\"\n",
            "[2024-02-22 13:03:54,167][copernicus_marine_root_logger][INFO] - Service was not specified, the default one was selected: \"original-files\"\n",
            "INFO - 2024-02-22T13:03:54Z - Downloading using service original-files...\n",
            "[2024-02-22 13:03:54,168][copernicus_marine_root_logger][INFO] - Downloading using service original-files...\n",
            "100% 1/1 [00:01<00:00,  1.52s/it]\n",
            "\u001b[0m"
          ]
        }
      ]
    },
    {
      "cell_type": "code",
      "source": [
        "import pathlib\n",
        "import xarray as xr\n",
        "p = next(pathlib.Path('data/downloads/c2').glob('**/*.nc'))\n",
        "print(str(p))\n",
        "xr.open_dataset(p)"
      ],
      "metadata": {
        "colab": {
          "base_uri": "https://localhost:8080/",
          "height": 497
        },
        "id": "u1F_IcJo6gWg",
        "outputId": "b30f4ca6-7ce8-44b3-d9da-f0adda41618e"
      },
      "execution_count": 56,
      "outputs": [
        {
          "output_type": "stream",
          "name": "stdout",
          "text": [
            "data/downloads/c2/SEALEVEL_GLO_PHY_L3_MY_008_062/cmems_obs-sl_glo_phy-ssh_my_c2-l3-duacs_PT1S_202112/2017/01/dt_global_c2_phy_l3_20170101_20210603.nc\n"
          ]
        },
        {
          "output_type": "execute_result",
          "data": {
            "text/plain": [
              "<xarray.Dataset> Size: 3MB\n",
              "Dimensions:         (time: 45532)\n",
              "Coordinates:\n",
              "  * time            (time) datetime64[ns] 364kB 2016-12-31T23:25:22.660954880...\n",
              "    longitude       (time) float64 364kB ...\n",
              "    latitude        (time) float64 364kB ...\n",
              "Data variables:\n",
              "    cycle           (time) int16 91kB ...\n",
              "    track           (time) int16 91kB ...\n",
              "    sla_unfiltered  (time) float32 182kB ...\n",
              "    sla_filtered    (time) float32 182kB ...\n",
              "    dac             (time) float32 182kB ...\n",
              "    ocean_tide      (time) float32 182kB ...\n",
              "    internal_tide   (time) float32 182kB ...\n",
              "    lwe             (time) float32 182kB ...\n",
              "    mdt             (time) float32 182kB ...\n",
              "    tpa_correction  float32 4B ...\n",
              "Attributes: (12/44)\n",
              "    Conventions:                     CF-1.6\n",
              "    Metadata_Conventions:            Unidata Dataset Discovery v1.0\n",
              "    cdm_data_type:                   Swath\n",
              "    comment:                         Sea surface height measured by altimeter...\n",
              "    contact:                         servicedesk.cmems@mercator-ocean.eu\n",
              "    creator_email:                   servicedesk.cmems@mercator-ocean.eu\n",
              "    ...                              ...\n",
              "    summary:                         SSALTO/DUACS Delayed-Time Level-3 sea su...\n",
              "    time_coverage_duration:          P23H48M29.216613S\n",
              "    time_coverage_end:               2017-01-01T23:13:51Z\n",
              "    time_coverage_resolution:        P1S\n",
              "    time_coverage_start:             2016-12-31T23:25:22Z\n",
              "    title:                           DT Cryosat-2 Global Ocean Along track SS..."
            ],
            "text/html": [
              "<div><svg style=\"position: absolute; width: 0; height: 0; overflow: hidden\">\n",
              "<defs>\n",
              "<symbol id=\"icon-database\" viewBox=\"0 0 32 32\">\n",
              "<path d=\"M16 0c-8.837 0-16 2.239-16 5v4c0 2.761 7.163 5 16 5s16-2.239 16-5v-4c0-2.761-7.163-5-16-5z\"></path>\n",
              "<path d=\"M16 17c-8.837 0-16-2.239-16-5v6c0 2.761 7.163 5 16 5s16-2.239 16-5v-6c0 2.761-7.163 5-16 5z\"></path>\n",
              "<path d=\"M16 26c-8.837 0-16-2.239-16-5v6c0 2.761 7.163 5 16 5s16-2.239 16-5v-6c0 2.761-7.163 5-16 5z\"></path>\n",
              "</symbol>\n",
              "<symbol id=\"icon-file-text2\" viewBox=\"0 0 32 32\">\n",
              "<path d=\"M28.681 7.159c-0.694-0.947-1.662-2.053-2.724-3.116s-2.169-2.030-3.116-2.724c-1.612-1.182-2.393-1.319-2.841-1.319h-15.5c-1.378 0-2.5 1.121-2.5 2.5v27c0 1.378 1.122 2.5 2.5 2.5h23c1.378 0 2.5-1.122 2.5-2.5v-19.5c0-0.448-0.137-1.23-1.319-2.841zM24.543 5.457c0.959 0.959 1.712 1.825 2.268 2.543h-4.811v-4.811c0.718 0.556 1.584 1.309 2.543 2.268zM28 29.5c0 0.271-0.229 0.5-0.5 0.5h-23c-0.271 0-0.5-0.229-0.5-0.5v-27c0-0.271 0.229-0.5 0.5-0.5 0 0 15.499-0 15.5 0v7c0 0.552 0.448 1 1 1h7v19.5z\"></path>\n",
              "<path d=\"M23 26h-14c-0.552 0-1-0.448-1-1s0.448-1 1-1h14c0.552 0 1 0.448 1 1s-0.448 1-1 1z\"></path>\n",
              "<path d=\"M23 22h-14c-0.552 0-1-0.448-1-1s0.448-1 1-1h14c0.552 0 1 0.448 1 1s-0.448 1-1 1z\"></path>\n",
              "<path d=\"M23 18h-14c-0.552 0-1-0.448-1-1s0.448-1 1-1h14c0.552 0 1 0.448 1 1s-0.448 1-1 1z\"></path>\n",
              "</symbol>\n",
              "</defs>\n",
              "</svg>\n",
              "<style>/* CSS stylesheet for displaying xarray objects in jupyterlab.\n",
              " *\n",
              " */\n",
              "\n",
              ":root {\n",
              "  --xr-font-color0: var(--jp-content-font-color0, rgba(0, 0, 0, 1));\n",
              "  --xr-font-color2: var(--jp-content-font-color2, rgba(0, 0, 0, 0.54));\n",
              "  --xr-font-color3: var(--jp-content-font-color3, rgba(0, 0, 0, 0.38));\n",
              "  --xr-border-color: var(--jp-border-color2, #e0e0e0);\n",
              "  --xr-disabled-color: var(--jp-layout-color3, #bdbdbd);\n",
              "  --xr-background-color: var(--jp-layout-color0, white);\n",
              "  --xr-background-color-row-even: var(--jp-layout-color1, white);\n",
              "  --xr-background-color-row-odd: var(--jp-layout-color2, #eeeeee);\n",
              "}\n",
              "\n",
              "html[theme=dark],\n",
              "body[data-theme=dark],\n",
              "body.vscode-dark {\n",
              "  --xr-font-color0: rgba(255, 255, 255, 1);\n",
              "  --xr-font-color2: rgba(255, 255, 255, 0.54);\n",
              "  --xr-font-color3: rgba(255, 255, 255, 0.38);\n",
              "  --xr-border-color: #1F1F1F;\n",
              "  --xr-disabled-color: #515151;\n",
              "  --xr-background-color: #111111;\n",
              "  --xr-background-color-row-even: #111111;\n",
              "  --xr-background-color-row-odd: #313131;\n",
              "}\n",
              "\n",
              ".xr-wrap {\n",
              "  display: block !important;\n",
              "  min-width: 300px;\n",
              "  max-width: 700px;\n",
              "}\n",
              "\n",
              ".xr-text-repr-fallback {\n",
              "  /* fallback to plain text repr when CSS is not injected (untrusted notebook) */\n",
              "  display: none;\n",
              "}\n",
              "\n",
              ".xr-header {\n",
              "  padding-top: 6px;\n",
              "  padding-bottom: 6px;\n",
              "  margin-bottom: 4px;\n",
              "  border-bottom: solid 1px var(--xr-border-color);\n",
              "}\n",
              "\n",
              ".xr-header > div,\n",
              ".xr-header > ul {\n",
              "  display: inline;\n",
              "  margin-top: 0;\n",
              "  margin-bottom: 0;\n",
              "}\n",
              "\n",
              ".xr-obj-type,\n",
              ".xr-array-name {\n",
              "  margin-left: 2px;\n",
              "  margin-right: 10px;\n",
              "}\n",
              "\n",
              ".xr-obj-type {\n",
              "  color: var(--xr-font-color2);\n",
              "}\n",
              "\n",
              ".xr-sections {\n",
              "  padding-left: 0 !important;\n",
              "  display: grid;\n",
              "  grid-template-columns: 150px auto auto 1fr 20px 20px;\n",
              "}\n",
              "\n",
              ".xr-section-item {\n",
              "  display: contents;\n",
              "}\n",
              "\n",
              ".xr-section-item input {\n",
              "  display: none;\n",
              "}\n",
              "\n",
              ".xr-section-item input + label {\n",
              "  color: var(--xr-disabled-color);\n",
              "}\n",
              "\n",
              ".xr-section-item input:enabled + label {\n",
              "  cursor: pointer;\n",
              "  color: var(--xr-font-color2);\n",
              "}\n",
              "\n",
              ".xr-section-item input:enabled + label:hover {\n",
              "  color: var(--xr-font-color0);\n",
              "}\n",
              "\n",
              ".xr-section-summary {\n",
              "  grid-column: 1;\n",
              "  color: var(--xr-font-color2);\n",
              "  font-weight: 500;\n",
              "}\n",
              "\n",
              ".xr-section-summary > span {\n",
              "  display: inline-block;\n",
              "  padding-left: 0.5em;\n",
              "}\n",
              "\n",
              ".xr-section-summary-in:disabled + label {\n",
              "  color: var(--xr-font-color2);\n",
              "}\n",
              "\n",
              ".xr-section-summary-in + label:before {\n",
              "  display: inline-block;\n",
              "  content: '►';\n",
              "  font-size: 11px;\n",
              "  width: 15px;\n",
              "  text-align: center;\n",
              "}\n",
              "\n",
              ".xr-section-summary-in:disabled + label:before {\n",
              "  color: var(--xr-disabled-color);\n",
              "}\n",
              "\n",
              ".xr-section-summary-in:checked + label:before {\n",
              "  content: '▼';\n",
              "}\n",
              "\n",
              ".xr-section-summary-in:checked + label > span {\n",
              "  display: none;\n",
              "}\n",
              "\n",
              ".xr-section-summary,\n",
              ".xr-section-inline-details {\n",
              "  padding-top: 4px;\n",
              "  padding-bottom: 4px;\n",
              "}\n",
              "\n",
              ".xr-section-inline-details {\n",
              "  grid-column: 2 / -1;\n",
              "}\n",
              "\n",
              ".xr-section-details {\n",
              "  display: none;\n",
              "  grid-column: 1 / -1;\n",
              "  margin-bottom: 5px;\n",
              "}\n",
              "\n",
              ".xr-section-summary-in:checked ~ .xr-section-details {\n",
              "  display: contents;\n",
              "}\n",
              "\n",
              ".xr-array-wrap {\n",
              "  grid-column: 1 / -1;\n",
              "  display: grid;\n",
              "  grid-template-columns: 20px auto;\n",
              "}\n",
              "\n",
              ".xr-array-wrap > label {\n",
              "  grid-column: 1;\n",
              "  vertical-align: top;\n",
              "}\n",
              "\n",
              ".xr-preview {\n",
              "  color: var(--xr-font-color3);\n",
              "}\n",
              "\n",
              ".xr-array-preview,\n",
              ".xr-array-data {\n",
              "  padding: 0 5px !important;\n",
              "  grid-column: 2;\n",
              "}\n",
              "\n",
              ".xr-array-data,\n",
              ".xr-array-in:checked ~ .xr-array-preview {\n",
              "  display: none;\n",
              "}\n",
              "\n",
              ".xr-array-in:checked ~ .xr-array-data,\n",
              ".xr-array-preview {\n",
              "  display: inline-block;\n",
              "}\n",
              "\n",
              ".xr-dim-list {\n",
              "  display: inline-block !important;\n",
              "  list-style: none;\n",
              "  padding: 0 !important;\n",
              "  margin: 0;\n",
              "}\n",
              "\n",
              ".xr-dim-list li {\n",
              "  display: inline-block;\n",
              "  padding: 0;\n",
              "  margin: 0;\n",
              "}\n",
              "\n",
              ".xr-dim-list:before {\n",
              "  content: '(';\n",
              "}\n",
              "\n",
              ".xr-dim-list:after {\n",
              "  content: ')';\n",
              "}\n",
              "\n",
              ".xr-dim-list li:not(:last-child):after {\n",
              "  content: ',';\n",
              "  padding-right: 5px;\n",
              "}\n",
              "\n",
              ".xr-has-index {\n",
              "  font-weight: bold;\n",
              "}\n",
              "\n",
              ".xr-var-list,\n",
              ".xr-var-item {\n",
              "  display: contents;\n",
              "}\n",
              "\n",
              ".xr-var-item > div,\n",
              ".xr-var-item label,\n",
              ".xr-var-item > .xr-var-name span {\n",
              "  background-color: var(--xr-background-color-row-even);\n",
              "  margin-bottom: 0;\n",
              "}\n",
              "\n",
              ".xr-var-item > .xr-var-name:hover span {\n",
              "  padding-right: 5px;\n",
              "}\n",
              "\n",
              ".xr-var-list > li:nth-child(odd) > div,\n",
              ".xr-var-list > li:nth-child(odd) > label,\n",
              ".xr-var-list > li:nth-child(odd) > .xr-var-name span {\n",
              "  background-color: var(--xr-background-color-row-odd);\n",
              "}\n",
              "\n",
              ".xr-var-name {\n",
              "  grid-column: 1;\n",
              "}\n",
              "\n",
              ".xr-var-dims {\n",
              "  grid-column: 2;\n",
              "}\n",
              "\n",
              ".xr-var-dtype {\n",
              "  grid-column: 3;\n",
              "  text-align: right;\n",
              "  color: var(--xr-font-color2);\n",
              "}\n",
              "\n",
              ".xr-var-preview {\n",
              "  grid-column: 4;\n",
              "}\n",
              "\n",
              ".xr-index-preview {\n",
              "  grid-column: 2 / 5;\n",
              "  color: var(--xr-font-color2);\n",
              "}\n",
              "\n",
              ".xr-var-name,\n",
              ".xr-var-dims,\n",
              ".xr-var-dtype,\n",
              ".xr-preview,\n",
              ".xr-attrs dt {\n",
              "  white-space: nowrap;\n",
              "  overflow: hidden;\n",
              "  text-overflow: ellipsis;\n",
              "  padding-right: 10px;\n",
              "}\n",
              "\n",
              ".xr-var-name:hover,\n",
              ".xr-var-dims:hover,\n",
              ".xr-var-dtype:hover,\n",
              ".xr-attrs dt:hover {\n",
              "  overflow: visible;\n",
              "  width: auto;\n",
              "  z-index: 1;\n",
              "}\n",
              "\n",
              ".xr-var-attrs,\n",
              ".xr-var-data,\n",
              ".xr-index-data {\n",
              "  display: none;\n",
              "  background-color: var(--xr-background-color) !important;\n",
              "  padding-bottom: 5px !important;\n",
              "}\n",
              "\n",
              ".xr-var-attrs-in:checked ~ .xr-var-attrs,\n",
              ".xr-var-data-in:checked ~ .xr-var-data,\n",
              ".xr-index-data-in:checked ~ .xr-index-data {\n",
              "  display: block;\n",
              "}\n",
              "\n",
              ".xr-var-data > table {\n",
              "  float: right;\n",
              "}\n",
              "\n",
              ".xr-var-name span,\n",
              ".xr-var-data,\n",
              ".xr-index-name div,\n",
              ".xr-index-data,\n",
              ".xr-attrs {\n",
              "  padding-left: 25px !important;\n",
              "}\n",
              "\n",
              ".xr-attrs,\n",
              ".xr-var-attrs,\n",
              ".xr-var-data,\n",
              ".xr-index-data {\n",
              "  grid-column: 1 / -1;\n",
              "}\n",
              "\n",
              "dl.xr-attrs {\n",
              "  padding: 0;\n",
              "  margin: 0;\n",
              "  display: grid;\n",
              "  grid-template-columns: 125px auto;\n",
              "}\n",
              "\n",
              ".xr-attrs dt,\n",
              ".xr-attrs dd {\n",
              "  padding: 0;\n",
              "  margin: 0;\n",
              "  float: left;\n",
              "  padding-right: 10px;\n",
              "  width: auto;\n",
              "}\n",
              "\n",
              ".xr-attrs dt {\n",
              "  font-weight: normal;\n",
              "  grid-column: 1;\n",
              "}\n",
              "\n",
              ".xr-attrs dt:hover span {\n",
              "  display: inline-block;\n",
              "  background: var(--xr-background-color);\n",
              "  padding-right: 10px;\n",
              "}\n",
              "\n",
              ".xr-attrs dd {\n",
              "  grid-column: 2;\n",
              "  white-space: pre-wrap;\n",
              "  word-break: break-all;\n",
              "}\n",
              "\n",
              ".xr-icon-database,\n",
              ".xr-icon-file-text2,\n",
              ".xr-no-icon {\n",
              "  display: inline-block;\n",
              "  vertical-align: middle;\n",
              "  width: 1em;\n",
              "  height: 1.5em !important;\n",
              "  stroke-width: 0;\n",
              "  stroke: currentColor;\n",
              "  fill: currentColor;\n",
              "}\n",
              "</style><pre class='xr-text-repr-fallback'>&lt;xarray.Dataset&gt; Size: 3MB\n",
              "Dimensions:         (time: 45532)\n",
              "Coordinates:\n",
              "  * time            (time) datetime64[ns] 364kB 2016-12-31T23:25:22.660954880...\n",
              "    longitude       (time) float64 364kB ...\n",
              "    latitude        (time) float64 364kB ...\n",
              "Data variables:\n",
              "    cycle           (time) int16 91kB ...\n",
              "    track           (time) int16 91kB ...\n",
              "    sla_unfiltered  (time) float32 182kB ...\n",
              "    sla_filtered    (time) float32 182kB ...\n",
              "    dac             (time) float32 182kB ...\n",
              "    ocean_tide      (time) float32 182kB ...\n",
              "    internal_tide   (time) float32 182kB ...\n",
              "    lwe             (time) float32 182kB ...\n",
              "    mdt             (time) float32 182kB ...\n",
              "    tpa_correction  float32 4B ...\n",
              "Attributes: (12/44)\n",
              "    Conventions:                     CF-1.6\n",
              "    Metadata_Conventions:            Unidata Dataset Discovery v1.0\n",
              "    cdm_data_type:                   Swath\n",
              "    comment:                         Sea surface height measured by altimeter...\n",
              "    contact:                         servicedesk.cmems@mercator-ocean.eu\n",
              "    creator_email:                   servicedesk.cmems@mercator-ocean.eu\n",
              "    ...                              ...\n",
              "    summary:                         SSALTO/DUACS Delayed-Time Level-3 sea su...\n",
              "    time_coverage_duration:          P23H48M29.216613S\n",
              "    time_coverage_end:               2017-01-01T23:13:51Z\n",
              "    time_coverage_resolution:        P1S\n",
              "    time_coverage_start:             2016-12-31T23:25:22Z\n",
              "    title:                           DT Cryosat-2 Global Ocean Along track SS...</pre><div class='xr-wrap' style='display:none'><div class='xr-header'><div class='xr-obj-type'>xarray.Dataset</div></div><ul class='xr-sections'><li class='xr-section-item'><input id='section-5ce34501-5f23-4400-b6df-235b3320dfb2' class='xr-section-summary-in' type='checkbox' disabled ><label for='section-5ce34501-5f23-4400-b6df-235b3320dfb2' class='xr-section-summary'  title='Expand/collapse section'>Dimensions:</label><div class='xr-section-inline-details'><ul class='xr-dim-list'><li><span class='xr-has-index'>time</span>: 45532</li></ul></div><div class='xr-section-details'></div></li><li class='xr-section-item'><input id='section-0a3e1bb1-1e02-4d32-9f34-d2e562bf3d5a' class='xr-section-summary-in' type='checkbox'  checked><label for='section-0a3e1bb1-1e02-4d32-9f34-d2e562bf3d5a' class='xr-section-summary' >Coordinates: <span>(3)</span></label><div class='xr-section-inline-details'></div><div class='xr-section-details'><ul class='xr-var-list'><li class='xr-var-item'><div class='xr-var-name'><span class='xr-has-index'>time</span></div><div class='xr-var-dims'>(time)</div><div class='xr-var-dtype'>datetime64[ns]</div><div class='xr-var-preview xr-preview'>2016-12-31T23:25:22.660954880 .....</div><input id='attrs-ccbc7c5e-871f-4da5-b099-43126078f36c' class='xr-var-attrs-in' type='checkbox' ><label for='attrs-ccbc7c5e-871f-4da5-b099-43126078f36c' title='Show/Hide attributes'><svg class='icon xr-icon-file-text2'><use xlink:href='#icon-file-text2'></use></svg></label><input id='data-7ecf504c-3035-44fb-914d-5ada564b4e91' class='xr-var-data-in' type='checkbox'><label for='data-7ecf504c-3035-44fb-914d-5ada564b4e91' title='Show/Hide data repr'><svg class='icon xr-icon-database'><use xlink:href='#icon-database'></use></svg></label><div class='xr-var-attrs'><dl class='xr-attrs'><dt><span>axis :</span></dt><dd>T</dd><dt><span>long_name :</span></dt><dd>Time of measurement</dd><dt><span>standard_name :</span></dt><dd>time</dd></dl></div><div class='xr-var-data'><pre>array([&#x27;2016-12-31T23:25:22.660954880&#x27;, &#x27;2016-12-31T23:25:23.604354816&#x27;,\n",
              "       &#x27;2016-12-31T23:25:24.547755008&#x27;, ..., &#x27;2017-01-01T23:13:49.990768128&#x27;,\n",
              "       &#x27;2017-01-01T23:13:50.934167808&#x27;, &#x27;2017-01-01T23:13:51.877568000&#x27;],\n",
              "      dtype=&#x27;datetime64[ns]&#x27;)</pre></div></li><li class='xr-var-item'><div class='xr-var-name'><span>longitude</span></div><div class='xr-var-dims'>(time)</div><div class='xr-var-dtype'>float64</div><div class='xr-var-preview xr-preview'>...</div><input id='attrs-e629843e-21ea-439c-bef7-4280194a0925' class='xr-var-attrs-in' type='checkbox' ><label for='attrs-e629843e-21ea-439c-bef7-4280194a0925' title='Show/Hide attributes'><svg class='icon xr-icon-file-text2'><use xlink:href='#icon-file-text2'></use></svg></label><input id='data-a586dc90-0190-4961-a3ab-24b48633c698' class='xr-var-data-in' type='checkbox'><label for='data-a586dc90-0190-4961-a3ab-24b48633c698' title='Show/Hide data repr'><svg class='icon xr-icon-database'><use xlink:href='#icon-database'></use></svg></label><div class='xr-var-attrs'><dl class='xr-attrs'><dt><span>long_name :</span></dt><dd>Longitude of measurement</dd><dt><span>standard_name :</span></dt><dd>longitude</dd><dt><span>units :</span></dt><dd>degrees_east</dd></dl></div><div class='xr-var-data'><pre>[45532 values with dtype=float64]</pre></div></li><li class='xr-var-item'><div class='xr-var-name'><span>latitude</span></div><div class='xr-var-dims'>(time)</div><div class='xr-var-dtype'>float64</div><div class='xr-var-preview xr-preview'>...</div><input id='attrs-151aa8cf-4884-4f28-9c7f-650bdaf3515f' class='xr-var-attrs-in' type='checkbox' ><label for='attrs-151aa8cf-4884-4f28-9c7f-650bdaf3515f' title='Show/Hide attributes'><svg class='icon xr-icon-file-text2'><use xlink:href='#icon-file-text2'></use></svg></label><input id='data-a47ede4e-650c-4275-9c39-eecde22355e8' class='xr-var-data-in' type='checkbox'><label for='data-a47ede4e-650c-4275-9c39-eecde22355e8' title='Show/Hide data repr'><svg class='icon xr-icon-database'><use xlink:href='#icon-database'></use></svg></label><div class='xr-var-attrs'><dl class='xr-attrs'><dt><span>long_name :</span></dt><dd>Latitude of measurement</dd><dt><span>standard_name :</span></dt><dd>latitude</dd><dt><span>units :</span></dt><dd>degrees_north</dd></dl></div><div class='xr-var-data'><pre>[45532 values with dtype=float64]</pre></div></li></ul></div></li><li class='xr-section-item'><input id='section-ceb6ddf5-fd4d-44d3-9f9f-ebbc24bd5f72' class='xr-section-summary-in' type='checkbox'  checked><label for='section-ceb6ddf5-fd4d-44d3-9f9f-ebbc24bd5f72' class='xr-section-summary' >Data variables: <span>(10)</span></label><div class='xr-section-inline-details'></div><div class='xr-section-details'><ul class='xr-var-list'><li class='xr-var-item'><div class='xr-var-name'><span>cycle</span></div><div class='xr-var-dims'>(time)</div><div class='xr-var-dtype'>int16</div><div class='xr-var-preview xr-preview'>...</div><input id='attrs-30180e3e-0487-4074-98ce-0a49ddc5abd2' class='xr-var-attrs-in' type='checkbox' ><label for='attrs-30180e3e-0487-4074-98ce-0a49ddc5abd2' title='Show/Hide attributes'><svg class='icon xr-icon-file-text2'><use xlink:href='#icon-file-text2'></use></svg></label><input id='data-5ef145e4-bbd7-4f80-8881-ad796565ddb8' class='xr-var-data-in' type='checkbox'><label for='data-5ef145e4-bbd7-4f80-8881-ad796565ddb8' title='Show/Hide data repr'><svg class='icon xr-icon-database'><use xlink:href='#icon-database'></use></svg></label><div class='xr-var-attrs'><dl class='xr-attrs'><dt><span>long_name :</span></dt><dd>Cycle the measurement belongs to</dd><dt><span>units :</span></dt><dd>1</dd></dl></div><div class='xr-var-data'><pre>[45532 values with dtype=int16]</pre></div></li><li class='xr-var-item'><div class='xr-var-name'><span>track</span></div><div class='xr-var-dims'>(time)</div><div class='xr-var-dtype'>int16</div><div class='xr-var-preview xr-preview'>...</div><input id='attrs-8a34afd0-b9f6-45c5-a28e-a92d5db3b1ce' class='xr-var-attrs-in' type='checkbox' ><label for='attrs-8a34afd0-b9f6-45c5-a28e-a92d5db3b1ce' title='Show/Hide attributes'><svg class='icon xr-icon-file-text2'><use xlink:href='#icon-file-text2'></use></svg></label><input id='data-f3ded8d2-a952-4fcc-bebd-6f072eb61ec6' class='xr-var-data-in' type='checkbox'><label for='data-f3ded8d2-a952-4fcc-bebd-6f072eb61ec6' title='Show/Hide data repr'><svg class='icon xr-icon-database'><use xlink:href='#icon-database'></use></svg></label><div class='xr-var-attrs'><dl class='xr-attrs'><dt><span>long_name :</span></dt><dd>Track in cycle the measurement belongs to</dd><dt><span>units :</span></dt><dd>1</dd></dl></div><div class='xr-var-data'><pre>[45532 values with dtype=int16]</pre></div></li><li class='xr-var-item'><div class='xr-var-name'><span>sla_unfiltered</span></div><div class='xr-var-dims'>(time)</div><div class='xr-var-dtype'>float32</div><div class='xr-var-preview xr-preview'>...</div><input id='attrs-89a4e361-4f9c-4b29-b4e8-408df1ddf23c' class='xr-var-attrs-in' type='checkbox' ><label for='attrs-89a4e361-4f9c-4b29-b4e8-408df1ddf23c' title='Show/Hide attributes'><svg class='icon xr-icon-file-text2'><use xlink:href='#icon-file-text2'></use></svg></label><input id='data-99e38365-0872-4cce-8613-aa081990f72d' class='xr-var-data-in' type='checkbox'><label for='data-99e38365-0872-4cce-8613-aa081990f72d' title='Show/Hide data repr'><svg class='icon xr-icon-database'><use xlink:href='#icon-database'></use></svg></label><div class='xr-var-attrs'><dl class='xr-attrs'><dt><span>comment :</span></dt><dd>The sea level anomaly is the sea surface height above mean sea surface height; the uncorrected sla can be computed as follows: [uncorrected sla]=[sla from product]+[dac]+[ocean_tide]+[internal_tide]-[lwe]; see the product user manual for details</dd><dt><span>long_name :</span></dt><dd>Sea level anomaly not-filtered not-subsampled with dac, ocean_tide and lwe correction applied</dd><dt><span>standard_name :</span></dt><dd>sea_surface_height_above_sea_level</dd><dt><span>units :</span></dt><dd>m</dd></dl></div><div class='xr-var-data'><pre>[45532 values with dtype=float32]</pre></div></li><li class='xr-var-item'><div class='xr-var-name'><span>sla_filtered</span></div><div class='xr-var-dims'>(time)</div><div class='xr-var-dtype'>float32</div><div class='xr-var-preview xr-preview'>...</div><input id='attrs-e4fd92b5-282d-48da-9a05-538ec47623be' class='xr-var-attrs-in' type='checkbox' ><label for='attrs-e4fd92b5-282d-48da-9a05-538ec47623be' title='Show/Hide attributes'><svg class='icon xr-icon-file-text2'><use xlink:href='#icon-file-text2'></use></svg></label><input id='data-81e8e8cf-f4a5-4b84-8715-f73e94d7909a' class='xr-var-data-in' type='checkbox'><label for='data-81e8e8cf-f4a5-4b84-8715-f73e94d7909a' title='Show/Hide data repr'><svg class='icon xr-icon-database'><use xlink:href='#icon-database'></use></svg></label><div class='xr-var-attrs'><dl class='xr-attrs'><dt><span>comment :</span></dt><dd>The sea level anomaly is the sea surface height above mean sea surface height; the uncorrected sla can be computed as follows: [uncorrected sla]=[sla from product]+[dac]+[ocean_tide]+[internal_tide]-[lwe]; see the product user manual for details</dd><dt><span>long_name :</span></dt><dd>Sea level anomaly filtered not-subsampled with dac, ocean_tide and lwe correction applied</dd><dt><span>standard_name :</span></dt><dd>sea_surface_height_above_sea_level</dd><dt><span>units :</span></dt><dd>m</dd></dl></div><div class='xr-var-data'><pre>[45532 values with dtype=float32]</pre></div></li><li class='xr-var-item'><div class='xr-var-name'><span>dac</span></div><div class='xr-var-dims'>(time)</div><div class='xr-var-dtype'>float32</div><div class='xr-var-preview xr-preview'>...</div><input id='attrs-e142dd07-04d0-463b-948e-7c08f8759c2b' class='xr-var-attrs-in' type='checkbox' ><label for='attrs-e142dd07-04d0-463b-948e-7c08f8759c2b' title='Show/Hide attributes'><svg class='icon xr-icon-file-text2'><use xlink:href='#icon-file-text2'></use></svg></label><input id='data-b5336169-b8a7-47eb-a0f3-07653e67fb9b' class='xr-var-data-in' type='checkbox'><label for='data-b5336169-b8a7-47eb-a0f3-07653e67fb9b' title='Show/Hide data repr'><svg class='icon xr-icon-database'><use xlink:href='#icon-database'></use></svg></label><div class='xr-var-attrs'><dl class='xr-attrs'><dt><span>comment :</span></dt><dd>The sla in this file is already corrected for the dac; the uncorrected sla can be computed as follows: [uncorrected sla]=[sla from product]+[dac]; see the product user manual for details</dd><dt><span>long_name :</span></dt><dd>Dynamic Atmospheric Correction</dd><dt><span>units :</span></dt><dd>m</dd></dl></div><div class='xr-var-data'><pre>[45532 values with dtype=float32]</pre></div></li><li class='xr-var-item'><div class='xr-var-name'><span>ocean_tide</span></div><div class='xr-var-dims'>(time)</div><div class='xr-var-dtype'>float32</div><div class='xr-var-preview xr-preview'>...</div><input id='attrs-09cb0483-4556-42ce-9c0a-4622352ae88c' class='xr-var-attrs-in' type='checkbox' ><label for='attrs-09cb0483-4556-42ce-9c0a-4622352ae88c' title='Show/Hide attributes'><svg class='icon xr-icon-file-text2'><use xlink:href='#icon-file-text2'></use></svg></label><input id='data-a13638cc-535a-4e8b-938e-a7bdef3b534d' class='xr-var-data-in' type='checkbox'><label for='data-a13638cc-535a-4e8b-938e-a7bdef3b534d' title='Show/Hide data repr'><svg class='icon xr-icon-database'><use xlink:href='#icon-database'></use></svg></label><div class='xr-var-attrs'><dl class='xr-attrs'><dt><span>comment :</span></dt><dd>The sla in this file is already corrected for the ocean_tide; the uncorrected sla can be computed as follows: [uncorrected sla]=[sla from product]+[ocean_tide]; see the product user manual for details</dd><dt><span>long_name :</span></dt><dd>Ocean tide model</dd><dt><span>units :</span></dt><dd>m</dd></dl></div><div class='xr-var-data'><pre>[45532 values with dtype=float32]</pre></div></li><li class='xr-var-item'><div class='xr-var-name'><span>internal_tide</span></div><div class='xr-var-dims'>(time)</div><div class='xr-var-dtype'>float32</div><div class='xr-var-preview xr-preview'>...</div><input id='attrs-a054ad4b-e56d-487e-85f6-638ca8801584' class='xr-var-attrs-in' type='checkbox' ><label for='attrs-a054ad4b-e56d-487e-85f6-638ca8801584' title='Show/Hide attributes'><svg class='icon xr-icon-file-text2'><use xlink:href='#icon-file-text2'></use></svg></label><input id='data-d16b20f1-6acc-43cb-bed7-dee0774388d1' class='xr-var-data-in' type='checkbox'><label for='data-d16b20f1-6acc-43cb-bed7-dee0774388d1' title='Show/Hide data repr'><svg class='icon xr-icon-database'><use xlink:href='#icon-database'></use></svg></label><div class='xr-var-attrs'><dl class='xr-attrs'><dt><span>comment :</span></dt><dd>The sla in this file is already corrected for the internal_tide; the uncorrected sla can be computed as follows: [uncorrected sla]=[sla from product]+[internal_tide]; see the product user manual for details</dd><dt><span>long_name :</span></dt><dd>Internal tide correction</dd><dt><span>units :</span></dt><dd>m</dd></dl></div><div class='xr-var-data'><pre>[45532 values with dtype=float32]</pre></div></li><li class='xr-var-item'><div class='xr-var-name'><span>lwe</span></div><div class='xr-var-dims'>(time)</div><div class='xr-var-dtype'>float32</div><div class='xr-var-preview xr-preview'>...</div><input id='attrs-ee2ad0af-b9f7-467c-9ade-df4a7bf25c99' class='xr-var-attrs-in' type='checkbox' ><label for='attrs-ee2ad0af-b9f7-467c-9ade-df4a7bf25c99' title='Show/Hide attributes'><svg class='icon xr-icon-file-text2'><use xlink:href='#icon-file-text2'></use></svg></label><input id='data-8e482597-5039-43f8-a064-a1ec843c341e' class='xr-var-data-in' type='checkbox'><label for='data-8e482597-5039-43f8-a064-a1ec843c341e' title='Show/Hide data repr'><svg class='icon xr-icon-database'><use xlink:href='#icon-database'></use></svg></label><div class='xr-var-attrs'><dl class='xr-attrs'><dt><span>comment :</span></dt><dd>The sla in this file is already corrected for the lwe; the uncorrected sla can be computed as follows: [uncorrected sla]=[sla from product]-[lwe]; see the product user manual for details</dd><dt><span>long_name :</span></dt><dd>Long wavelength error</dd><dt><span>units :</span></dt><dd>m</dd></dl></div><div class='xr-var-data'><pre>[45532 values with dtype=float32]</pre></div></li><li class='xr-var-item'><div class='xr-var-name'><span>mdt</span></div><div class='xr-var-dims'>(time)</div><div class='xr-var-dtype'>float32</div><div class='xr-var-preview xr-preview'>...</div><input id='attrs-3cb3a6f5-19e4-4797-9b97-f7d8d26b0500' class='xr-var-attrs-in' type='checkbox' ><label for='attrs-3cb3a6f5-19e4-4797-9b97-f7d8d26b0500' title='Show/Hide attributes'><svg class='icon xr-icon-file-text2'><use xlink:href='#icon-file-text2'></use></svg></label><input id='data-b6f2541b-2dfc-4b51-8e68-00e281b17e9d' class='xr-var-data-in' type='checkbox'><label for='data-b6f2541b-2dfc-4b51-8e68-00e281b17e9d' title='Show/Hide data repr'><svg class='icon xr-icon-database'><use xlink:href='#icon-database'></use></svg></label><div class='xr-var-attrs'><dl class='xr-attrs'><dt><span>comment :</span></dt><dd>The mean dynamic topography is the sea surface height above geoid; it is used to compute the absolute dynamic tyopography adt=sla+mdt</dd><dt><span>long_name :</span></dt><dd>Mean dynamic topography</dd><dt><span>standard_name :</span></dt><dd>sea_surface_height_above_geoid</dd><dt><span>units :</span></dt><dd>m</dd></dl></div><div class='xr-var-data'><pre>[45532 values with dtype=float32]</pre></div></li><li class='xr-var-item'><div class='xr-var-name'><span>tpa_correction</span></div><div class='xr-var-dims'>()</div><div class='xr-var-dtype'>float32</div><div class='xr-var-preview xr-preview'>...</div><input id='attrs-e4d117e8-4dab-424b-9630-5b03dcbc0472' class='xr-var-attrs-in' type='checkbox' ><label for='attrs-e4d117e8-4dab-424b-9630-5b03dcbc0472' title='Show/Hide attributes'><svg class='icon xr-icon-file-text2'><use xlink:href='#icon-file-text2'></use></svg></label><input id='data-80e4b30c-09b3-4710-a93e-c33109c01d96' class='xr-var-data-in' type='checkbox'><label for='data-80e4b30c-09b3-4710-a93e-c33109c01d96' title='Show/Hide data repr'><svg class='icon xr-icon-database'><use xlink:href='#icon-database'></use></svg></label><div class='xr-var-attrs'><dl class='xr-attrs'><dt><span>comment :</span></dt><dd>This variable can be added to the SLA to correct for the observed instrumental drift during the lifetime of the TOPEX-A mission (the correction is null after this period). This is a global correction to be added a posteriori (and not before) on the global mean sea level estimate derived from the along-track product. It can be applied at regional or local scale as a best estimate (better than no correction, since the regional variation of the instrumental drift is unknown). See product manual for more details.</dd><dt><span>long_name :</span></dt><dd>TOPEX-A instrumental drift correction derived from altimetry and tide gauges global comparisons (WCRP Sea Level Budget Group, 2018)</dd><dt><span>standard_name :</span></dt><dd>sea_surface_height_above_sea_level</dd><dt><span>units :</span></dt><dd>m</dd></dl></div><div class='xr-var-data'><pre>[1 values with dtype=float32]</pre></div></li></ul></div></li><li class='xr-section-item'><input id='section-6deef19b-ee41-483b-8fe0-78d5088272ce' class='xr-section-summary-in' type='checkbox'  ><label for='section-6deef19b-ee41-483b-8fe0-78d5088272ce' class='xr-section-summary' >Indexes: <span>(1)</span></label><div class='xr-section-inline-details'></div><div class='xr-section-details'><ul class='xr-var-list'><li class='xr-var-item'><div class='xr-index-name'><div>time</div></div><div class='xr-index-preview'>PandasIndex</div><div></div><input id='index-9b1bc757-0b1c-446a-851f-969bebd4af23' class='xr-index-data-in' type='checkbox'/><label for='index-9b1bc757-0b1c-446a-851f-969bebd4af23' title='Show/Hide index repr'><svg class='icon xr-icon-database'><use xlink:href='#icon-database'></use></svg></label><div class='xr-index-data'><pre>PandasIndex(DatetimeIndex([&#x27;2016-12-31 23:25:22.660954880&#x27;,\n",
              "               &#x27;2016-12-31 23:25:23.604354816&#x27;,\n",
              "               &#x27;2016-12-31 23:25:24.547755008&#x27;,\n",
              "               &#x27;2016-12-31 23:25:25.491154688&#x27;,\n",
              "               &#x27;2016-12-31 23:25:26.434554880&#x27;,\n",
              "               &#x27;2016-12-31 23:25:27.377954816&#x27;,\n",
              "               &#x27;2016-12-31 23:25:28.321355008&#x27;,\n",
              "               &#x27;2016-12-31 23:25:29.264754688&#x27;,\n",
              "               &#x27;2016-12-31 23:25:30.208154880&#x27;,\n",
              "               &#x27;2016-12-31 23:25:31.151554816&#x27;,\n",
              "               ...\n",
              "               &#x27;2017-01-01 23:13:43.386967808&#x27;,\n",
              "                  &#x27;2017-01-01 23:13:44.330368&#x27;,\n",
              "               &#x27;2017-01-01 23:13:45.273767936&#x27;,\n",
              "               &#x27;2017-01-01 23:13:46.217168128&#x27;,\n",
              "               &#x27;2017-01-01 23:13:47.160567808&#x27;,\n",
              "                  &#x27;2017-01-01 23:13:48.103968&#x27;,\n",
              "               &#x27;2017-01-01 23:13:49.047367936&#x27;,\n",
              "               &#x27;2017-01-01 23:13:49.990768128&#x27;,\n",
              "               &#x27;2017-01-01 23:13:50.934167808&#x27;,\n",
              "                  &#x27;2017-01-01 23:13:51.877568&#x27;],\n",
              "              dtype=&#x27;datetime64[ns]&#x27;, name=&#x27;time&#x27;, length=45532, freq=None))</pre></div></li></ul></div></li><li class='xr-section-item'><input id='section-30e9b1ab-0c6d-42ca-b67a-ad64b7091d45' class='xr-section-summary-in' type='checkbox'  ><label for='section-30e9b1ab-0c6d-42ca-b67a-ad64b7091d45' class='xr-section-summary' >Attributes: <span>(44)</span></label><div class='xr-section-inline-details'></div><div class='xr-section-details'><dl class='xr-attrs'><dt><span>Conventions :</span></dt><dd>CF-1.6</dd><dt><span>Metadata_Conventions :</span></dt><dd>Unidata Dataset Discovery v1.0</dd><dt><span>cdm_data_type :</span></dt><dd>Swath</dd><dt><span>comment :</span></dt><dd>Sea surface height measured by altimeters referenced to the [1993, 2012] period; with additional corrections; the proposed sla is already corrected for dac, ocean_tide and lwe; [uncorrected sla]=[sla from product]+[dac]+[ocean_tide]-[lwe]</dd><dt><span>contact :</span></dt><dd>servicedesk.cmems@mercator-ocean.eu</dd><dt><span>creator_email :</span></dt><dd>servicedesk.cmems@mercator-ocean.eu</dd><dt><span>creator_name :</span></dt><dd>CMEMS - Sea Level Thematic Assembly Center</dd><dt><span>creator_url :</span></dt><dd>http://marine.copernicus.eu</dd><dt><span>date_created :</span></dt><dd>2021-09-09T07:49:21Z</dd><dt><span>date_issued :</span></dt><dd>2021-09-09T07:49:21Z</dd><dt><span>date_modified :</span></dt><dd>2021-09-09T07:49:21Z</dd><dt><span>geospatial_lat_max :</span></dt><dd>81.192358</dd><dt><span>geospatial_lat_min :</span></dt><dd>-75.94778699999999</dd><dt><span>geospatial_lat_resolution :</span></dt><dd>0.0565690000000032</dd><dt><span>geospatial_lat_units :</span></dt><dd>degrees_north</dd><dt><span>geospatial_lon_max :</span></dt><dd>359.988472</dd><dt><span>geospatial_lon_min :</span></dt><dd>0.024831</dd><dt><span>geospatial_lon_resolution :</span></dt><dd>0.006669999999999732</dd><dt><span>geospatial_lon_units :</span></dt><dd>degrees_east</dd><dt><span>geospatial_vertical_max :</span></dt><dd>0.0</dd><dt><span>geospatial_vertical_min :</span></dt><dd>0.0</dd><dt><span>geospatial_vertical_positive :</span></dt><dd>down</dd><dt><span>geospatial_vertical_resolution :</span></dt><dd>point</dd><dt><span>geospatial_vertical_units :</span></dt><dd>m</dd><dt><span>history :</span></dt><dd>2021-09-09T07:49:21Z: Creation</dd><dt><span>institution :</span></dt><dd>CLS, CNES</dd><dt><span>keywords :</span></dt><dd>Oceans &gt; Ocean Topography &gt; Sea Surface Height</dd><dt><span>keywords_vocabulary :</span></dt><dd>NetCDF COARDS Climate and Forecast Standard Names</dd><dt><span>license :</span></dt><dd>http://marine.copernicus.eu/web/27-service-commitments-and-licence.php</dd><dt><span>platform :</span></dt><dd>Cryosat-2</dd><dt><span>processing_level :</span></dt><dd>L3</dd><dt><span>product_version :</span></dt><dd>vDec2021</dd><dt><span>project :</span></dt><dd>COPERNICUS MARINE ENVIRONMENT MONITORING SERVICE (CMEMS)</dd><dt><span>references :</span></dt><dd>http://marine.copernicus.eu</dd><dt><span>software_version :</span></dt><dd>7.0_DUACS_DT2021_baseline</dd><dt><span>source :</span></dt><dd>Cryosat-2 measurements</dd><dt><span>ssalto_duacs_comment :</span></dt><dd>The reference mission used for the altimeter inter-calibration processing is Topex/Poseidon between 1993-01-01 and 2002-04-23, Jason-1 between 2002-04-24 and 2008-10-18, OSTM/Jason-2 between 2008-10-19 and 2016-06-25, Jason-3 since 2016-06-25.</dd><dt><span>standard_name_vocabulary :</span></dt><dd>NetCDF Climate and Forecast (CF) Metadata Convention Standard Name Table v37</dd><dt><span>summary :</span></dt><dd>SSALTO/DUACS Delayed-Time Level-3 sea surface height measured by Cryosat-2 altimetry observations over Global Ocean.</dd><dt><span>time_coverage_duration :</span></dt><dd>P23H48M29.216613S</dd><dt><span>time_coverage_end :</span></dt><dd>2017-01-01T23:13:51Z</dd><dt><span>time_coverage_resolution :</span></dt><dd>P1S</dd><dt><span>time_coverage_start :</span></dt><dd>2016-12-31T23:25:22Z</dd><dt><span>title :</span></dt><dd>DT Cryosat-2 Global Ocean Along track SSALTO/DUACS Sea Surface Height L3 product</dd></dl></div></li></ul></div></div>"
            ]
          },
          "metadata": {},
          "execution_count": 56
        }
      ]
    },
    {
      "cell_type": "markdown",
      "source": [
        "## Run last stage Manually recompute a lambdax"
      ],
      "metadata": {
        "id": "zDlEoMqO7Ht0"
      }
    },
    {
      "cell_type": "code",
      "source": [
        "!rm data/metrics/lambdax_musti.json\n",
        "!qf_alongtrack_lambdax_from_map to_run=['lambdax'] stages.method='musti'\n",
        "!cat data/metrics/lambdax_musti.json"
      ],
      "metadata": {
        "colab": {
          "base_uri": "https://localhost:8080/"
        },
        "id": "SJ9pvaSK634f",
        "outputId": "5a4bcec2-674f-4ac6-8c12-e79981ec755c"
      },
      "execution_count": 57,
      "outputs": [
        {
          "output_type": "stream",
          "name": "stdout",
          "text": [
            "\u001b[0m{\"lambdax\": 63.80801481059697}"
          ]
        }
      ]
    },
    {
      "cell_type": "markdown",
      "source": [
        "## Inside the pipeline: Modules"
      ],
      "metadata": {
        "id": "ai9qjGbO7q7A"
      }
    },
    {
      "cell_type": "markdown",
      "source": [
        "### Exploring the config with `--cfg job -p`"
      ],
      "metadata": {
        "id": "pzDOvHsT7zHa"
      }
    },
    {
      "cell_type": "code",
      "source": [
        "# print the config of the pipeline associated with the first stage: we see the field __target__ which is a MODULE\n",
        "!qf_alongtrack_lambdax_from_map --cfg job -p stages.dl_tracks"
      ],
      "metadata": {
        "colab": {
          "base_uri": "https://localhost:8080/"
        },
        "id": "xPH5LOhq741x",
        "outputId": "07c67bc0-1ca5-4364-9df1-3e3948a490a7"
      },
      "execution_count": 58,
      "outputs": [
        {
          "output_type": "stream",
          "name": "stdout",
          "text": [
            "# @package stages.dl_tracks\n",
            "_target_: dz_download_ssh_tracks.run\n",
            "_partial_: true\n",
            "sat: c2\n",
            "download_dir: data/downloads/${.sat}\n",
            "min_time: '2017-01-01'\n",
            "max_time: '2017-12-31'\n",
            "filters:\n",
            "- '*2017*'\n",
            "_skip_val: false\n",
            "\u001b[0m"
          ]
        }
      ]
    },
    {
      "cell_type": "code",
      "source": [
        "# Get detail from the first stage's module\n",
        "!dz_download_ssh_tracks --help"
      ],
      "metadata": {
        "colab": {
          "base_uri": "https://localhost:8080/"
        },
        "id": "uvQwBARsrcOE",
        "outputId": "16b58abe-eead-4ee2-acf5-7822ecfbf2bd"
      },
      "execution_count": 59,
      "outputs": [
        {
          "output_type": "stream",
          "name": "stdout",
          "text": [
            "\n",
            " Download the SSH reprocessed tracks of a given satellite from copernicus marine store (requires cmems credentials)\n",
            "To specify the files to be downloaded, two options:\n",
            "- specify min_time and max_time parameters and the months encompassing the period\n",
            "will be downloaded\n",
            "- specify a list of filters in the form \"*YYYY*\" or \"*YYYYMM*\" or \"*YYYYMMDD*\" to\n",
            "have more fine grained control\n",
            "\n",
            "Pipeline description: \n",
            "    Download the SSH reprocessed tracks of a given satellite from copernicus marine store (requires cmems credentials)\n",
            "\n",
            "Input description: None\n",
            "    \n",
            "\n",
            "Output description:\n",
            "    \n",
            "    Daily netcdf ordered by folder with for a given satellite\n",
            "    Requirements:\n",
            "      - download_dir points to a directory\n",
            "      - download_dir contains netcdf files\n",
            "    \n",
            "\n",
            "Returns:\n",
            "    None\n",
            "\n",
            "== Configuration groups ==\n",
            "Compose your configuration from those groups (group=option)\n",
            "\n",
            "\n",
            "\n",
            "== Config ==\n",
            "Override anything in the config (foo.bar=value)\n",
            "\n",
            "_target_: dz_download_ssh_tracks.run\n",
            "sat: c2\n",
            "download_dir: data/downloads/${.sat}\n",
            "min_time: '2017-01-01'\n",
            "max_time: '2017-12-31'\n",
            "filters: null\n",
            "_skip_val: false\n",
            "\n",
            "\n",
            "Powered by Hydra (https://hydra.cc)\n",
            "Use --hydra-help to view Hydra specific help\n",
            "\n",
            "\n"
          ]
        }
      ]
    },
    {
      "cell_type": "markdown",
      "source": [
        "## Use a module directly to download some data"
      ],
      "metadata": {
        "id": "BF2zg4Bu8LwX"
      }
    },
    {
      "cell_type": "code",
      "source": [
        "# Download the data for Jun 1st to Jun 9th of th Alg satellite\n",
        "# Note: run `copernicusmarine login` in order to avoid typing your credentials each time\n",
        "!dz_download_ssh_tracks sat=alg filters=['*2017060*']"
      ],
      "metadata": {
        "colab": {
          "base_uri": "https://localhost:8080/"
        },
        "id": "w26E1eE05roe",
        "outputId": "5525766d-88c6-4f43-b9f5-d5e458ddfa8f"
      },
      "execution_count": 60,
      "outputs": [
        {
          "output_type": "stream",
          "name": "stdout",
          "text": [
            "[2024-02-22 13:12:53,495][dz_download_ssh_tracks][INFO] - Starting\n",
            "username: qfebvre1\n",
            "password: \n",
            "INFO - 2024-02-22T13:13:03Z - Dataset version was not specified, the latest one was selected: \"202112\"\n",
            "[2024-02-22 13:13:03,573][copernicus_marine_root_logger][INFO] - Dataset version was not specified, the latest one was selected: \"202112\"\n",
            "INFO - 2024-02-22T13:13:03Z - Dataset part was not specified, the first one was selected: \"default\"\n",
            "[2024-02-22 13:13:03,574][copernicus_marine_root_logger][INFO] - Dataset part was not specified, the first one was selected: \"default\"\n",
            "INFO - 2024-02-22T13:13:03Z - Service was not specified, the default one was selected: \"original-files\"\n",
            "[2024-02-22 13:13:03,574][copernicus_marine_root_logger][INFO] - Service was not specified, the default one was selected: \"original-files\"\n",
            "INFO - 2024-02-22T13:13:03Z - Downloading using service original-files...\n",
            "[2024-02-22 13:13:03,574][copernicus_marine_root_logger][INFO] - Downloading using service original-files...\n",
            "100% 9/9 [00:09<00:00,  1.00s/it]\n"
          ]
        }
      ]
    },
    {
      "cell_type": "code",
      "source": [
        "import pathlib\n",
        "import xarray as xr\n",
        "ps = [*pathlib.Path('data/downloads/alg').glob('**/*.nc')]\n",
        "print(f'{len(ps)=}')\n",
        "print(str(ps[0]))\n",
        "xr.open_dataset(ps[0])"
      ],
      "metadata": {
        "colab": {
          "base_uri": "https://localhost:8080/",
          "height": 514
        },
        "id": "rZsl41QO8beE",
        "outputId": "c05ae5d5-31c3-4ecc-cdd8-ac03284bb901"
      },
      "execution_count": 61,
      "outputs": [
        {
          "output_type": "stream",
          "name": "stdout",
          "text": [
            "len(ps)=9\n",
            "data/downloads/alg/SEALEVEL_GLO_PHY_L3_MY_008_062/cmems_obs-sl_glo_phy-ssh_my_alg-l3-duacs_PT1S_202112/2017/06/dt_global_alg_phy_l3_20170603_20210603.nc\n"
          ]
        },
        {
          "output_type": "execute_result",
          "data": {
            "text/plain": [
              "<xarray.Dataset> Size: 3MB\n",
              "Dimensions:         (time: 44772)\n",
              "Coordinates:\n",
              "  * time            (time) datetime64[ns] 358kB 2017-06-02T23:24:48.057512960...\n",
              "    longitude       (time) float64 358kB ...\n",
              "    latitude        (time) float64 358kB ...\n",
              "Data variables:\n",
              "    cycle           (time) int16 90kB ...\n",
              "    track           (time) int16 90kB ...\n",
              "    sla_unfiltered  (time) float32 179kB ...\n",
              "    sla_filtered    (time) float32 179kB ...\n",
              "    dac             (time) float32 179kB ...\n",
              "    ocean_tide      (time) float32 179kB ...\n",
              "    internal_tide   (time) float32 179kB ...\n",
              "    lwe             (time) float32 179kB ...\n",
              "    mdt             (time) float32 179kB ...\n",
              "    tpa_correction  float32 4B ...\n",
              "Attributes: (12/44)\n",
              "    Conventions:                     CF-1.6\n",
              "    Metadata_Conventions:            Unidata Dataset Discovery v1.0\n",
              "    cdm_data_type:                   Swath\n",
              "    comment:                         Sea surface height measured by altimeter...\n",
              "    contact:                         servicedesk.cmems@mercator-ocean.eu\n",
              "    creator_email:                   servicedesk.cmems@mercator-ocean.eu\n",
              "    ...                              ...\n",
              "    summary:                         SSALTO/DUACS Delayed-Time Level-3 sea su...\n",
              "    time_coverage_duration:          P24H9M42.219059S\n",
              "    time_coverage_end:               2017-06-03T23:34:30Z\n",
              "    time_coverage_resolution:        P1S\n",
              "    time_coverage_start:             2017-06-02T23:24:48Z\n",
              "    title:                           DT Altika Drifting Phase Global Ocean Al..."
            ],
            "text/html": [
              "<div><svg style=\"position: absolute; width: 0; height: 0; overflow: hidden\">\n",
              "<defs>\n",
              "<symbol id=\"icon-database\" viewBox=\"0 0 32 32\">\n",
              "<path d=\"M16 0c-8.837 0-16 2.239-16 5v4c0 2.761 7.163 5 16 5s16-2.239 16-5v-4c0-2.761-7.163-5-16-5z\"></path>\n",
              "<path d=\"M16 17c-8.837 0-16-2.239-16-5v6c0 2.761 7.163 5 16 5s16-2.239 16-5v-6c0 2.761-7.163 5-16 5z\"></path>\n",
              "<path d=\"M16 26c-8.837 0-16-2.239-16-5v6c0 2.761 7.163 5 16 5s16-2.239 16-5v-6c0 2.761-7.163 5-16 5z\"></path>\n",
              "</symbol>\n",
              "<symbol id=\"icon-file-text2\" viewBox=\"0 0 32 32\">\n",
              "<path d=\"M28.681 7.159c-0.694-0.947-1.662-2.053-2.724-3.116s-2.169-2.030-3.116-2.724c-1.612-1.182-2.393-1.319-2.841-1.319h-15.5c-1.378 0-2.5 1.121-2.5 2.5v27c0 1.378 1.122 2.5 2.5 2.5h23c1.378 0 2.5-1.122 2.5-2.5v-19.5c0-0.448-0.137-1.23-1.319-2.841zM24.543 5.457c0.959 0.959 1.712 1.825 2.268 2.543h-4.811v-4.811c0.718 0.556 1.584 1.309 2.543 2.268zM28 29.5c0 0.271-0.229 0.5-0.5 0.5h-23c-0.271 0-0.5-0.229-0.5-0.5v-27c0-0.271 0.229-0.5 0.5-0.5 0 0 15.499-0 15.5 0v7c0 0.552 0.448 1 1 1h7v19.5z\"></path>\n",
              "<path d=\"M23 26h-14c-0.552 0-1-0.448-1-1s0.448-1 1-1h14c0.552 0 1 0.448 1 1s-0.448 1-1 1z\"></path>\n",
              "<path d=\"M23 22h-14c-0.552 0-1-0.448-1-1s0.448-1 1-1h14c0.552 0 1 0.448 1 1s-0.448 1-1 1z\"></path>\n",
              "<path d=\"M23 18h-14c-0.552 0-1-0.448-1-1s0.448-1 1-1h14c0.552 0 1 0.448 1 1s-0.448 1-1 1z\"></path>\n",
              "</symbol>\n",
              "</defs>\n",
              "</svg>\n",
              "<style>/* CSS stylesheet for displaying xarray objects in jupyterlab.\n",
              " *\n",
              " */\n",
              "\n",
              ":root {\n",
              "  --xr-font-color0: var(--jp-content-font-color0, rgba(0, 0, 0, 1));\n",
              "  --xr-font-color2: var(--jp-content-font-color2, rgba(0, 0, 0, 0.54));\n",
              "  --xr-font-color3: var(--jp-content-font-color3, rgba(0, 0, 0, 0.38));\n",
              "  --xr-border-color: var(--jp-border-color2, #e0e0e0);\n",
              "  --xr-disabled-color: var(--jp-layout-color3, #bdbdbd);\n",
              "  --xr-background-color: var(--jp-layout-color0, white);\n",
              "  --xr-background-color-row-even: var(--jp-layout-color1, white);\n",
              "  --xr-background-color-row-odd: var(--jp-layout-color2, #eeeeee);\n",
              "}\n",
              "\n",
              "html[theme=dark],\n",
              "body[data-theme=dark],\n",
              "body.vscode-dark {\n",
              "  --xr-font-color0: rgba(255, 255, 255, 1);\n",
              "  --xr-font-color2: rgba(255, 255, 255, 0.54);\n",
              "  --xr-font-color3: rgba(255, 255, 255, 0.38);\n",
              "  --xr-border-color: #1F1F1F;\n",
              "  --xr-disabled-color: #515151;\n",
              "  --xr-background-color: #111111;\n",
              "  --xr-background-color-row-even: #111111;\n",
              "  --xr-background-color-row-odd: #313131;\n",
              "}\n",
              "\n",
              ".xr-wrap {\n",
              "  display: block !important;\n",
              "  min-width: 300px;\n",
              "  max-width: 700px;\n",
              "}\n",
              "\n",
              ".xr-text-repr-fallback {\n",
              "  /* fallback to plain text repr when CSS is not injected (untrusted notebook) */\n",
              "  display: none;\n",
              "}\n",
              "\n",
              ".xr-header {\n",
              "  padding-top: 6px;\n",
              "  padding-bottom: 6px;\n",
              "  margin-bottom: 4px;\n",
              "  border-bottom: solid 1px var(--xr-border-color);\n",
              "}\n",
              "\n",
              ".xr-header > div,\n",
              ".xr-header > ul {\n",
              "  display: inline;\n",
              "  margin-top: 0;\n",
              "  margin-bottom: 0;\n",
              "}\n",
              "\n",
              ".xr-obj-type,\n",
              ".xr-array-name {\n",
              "  margin-left: 2px;\n",
              "  margin-right: 10px;\n",
              "}\n",
              "\n",
              ".xr-obj-type {\n",
              "  color: var(--xr-font-color2);\n",
              "}\n",
              "\n",
              ".xr-sections {\n",
              "  padding-left: 0 !important;\n",
              "  display: grid;\n",
              "  grid-template-columns: 150px auto auto 1fr 20px 20px;\n",
              "}\n",
              "\n",
              ".xr-section-item {\n",
              "  display: contents;\n",
              "}\n",
              "\n",
              ".xr-section-item input {\n",
              "  display: none;\n",
              "}\n",
              "\n",
              ".xr-section-item input + label {\n",
              "  color: var(--xr-disabled-color);\n",
              "}\n",
              "\n",
              ".xr-section-item input:enabled + label {\n",
              "  cursor: pointer;\n",
              "  color: var(--xr-font-color2);\n",
              "}\n",
              "\n",
              ".xr-section-item input:enabled + label:hover {\n",
              "  color: var(--xr-font-color0);\n",
              "}\n",
              "\n",
              ".xr-section-summary {\n",
              "  grid-column: 1;\n",
              "  color: var(--xr-font-color2);\n",
              "  font-weight: 500;\n",
              "}\n",
              "\n",
              ".xr-section-summary > span {\n",
              "  display: inline-block;\n",
              "  padding-left: 0.5em;\n",
              "}\n",
              "\n",
              ".xr-section-summary-in:disabled + label {\n",
              "  color: var(--xr-font-color2);\n",
              "}\n",
              "\n",
              ".xr-section-summary-in + label:before {\n",
              "  display: inline-block;\n",
              "  content: '►';\n",
              "  font-size: 11px;\n",
              "  width: 15px;\n",
              "  text-align: center;\n",
              "}\n",
              "\n",
              ".xr-section-summary-in:disabled + label:before {\n",
              "  color: var(--xr-disabled-color);\n",
              "}\n",
              "\n",
              ".xr-section-summary-in:checked + label:before {\n",
              "  content: '▼';\n",
              "}\n",
              "\n",
              ".xr-section-summary-in:checked + label > span {\n",
              "  display: none;\n",
              "}\n",
              "\n",
              ".xr-section-summary,\n",
              ".xr-section-inline-details {\n",
              "  padding-top: 4px;\n",
              "  padding-bottom: 4px;\n",
              "}\n",
              "\n",
              ".xr-section-inline-details {\n",
              "  grid-column: 2 / -1;\n",
              "}\n",
              "\n",
              ".xr-section-details {\n",
              "  display: none;\n",
              "  grid-column: 1 / -1;\n",
              "  margin-bottom: 5px;\n",
              "}\n",
              "\n",
              ".xr-section-summary-in:checked ~ .xr-section-details {\n",
              "  display: contents;\n",
              "}\n",
              "\n",
              ".xr-array-wrap {\n",
              "  grid-column: 1 / -1;\n",
              "  display: grid;\n",
              "  grid-template-columns: 20px auto;\n",
              "}\n",
              "\n",
              ".xr-array-wrap > label {\n",
              "  grid-column: 1;\n",
              "  vertical-align: top;\n",
              "}\n",
              "\n",
              ".xr-preview {\n",
              "  color: var(--xr-font-color3);\n",
              "}\n",
              "\n",
              ".xr-array-preview,\n",
              ".xr-array-data {\n",
              "  padding: 0 5px !important;\n",
              "  grid-column: 2;\n",
              "}\n",
              "\n",
              ".xr-array-data,\n",
              ".xr-array-in:checked ~ .xr-array-preview {\n",
              "  display: none;\n",
              "}\n",
              "\n",
              ".xr-array-in:checked ~ .xr-array-data,\n",
              ".xr-array-preview {\n",
              "  display: inline-block;\n",
              "}\n",
              "\n",
              ".xr-dim-list {\n",
              "  display: inline-block !important;\n",
              "  list-style: none;\n",
              "  padding: 0 !important;\n",
              "  margin: 0;\n",
              "}\n",
              "\n",
              ".xr-dim-list li {\n",
              "  display: inline-block;\n",
              "  padding: 0;\n",
              "  margin: 0;\n",
              "}\n",
              "\n",
              ".xr-dim-list:before {\n",
              "  content: '(';\n",
              "}\n",
              "\n",
              ".xr-dim-list:after {\n",
              "  content: ')';\n",
              "}\n",
              "\n",
              ".xr-dim-list li:not(:last-child):after {\n",
              "  content: ',';\n",
              "  padding-right: 5px;\n",
              "}\n",
              "\n",
              ".xr-has-index {\n",
              "  font-weight: bold;\n",
              "}\n",
              "\n",
              ".xr-var-list,\n",
              ".xr-var-item {\n",
              "  display: contents;\n",
              "}\n",
              "\n",
              ".xr-var-item > div,\n",
              ".xr-var-item label,\n",
              ".xr-var-item > .xr-var-name span {\n",
              "  background-color: var(--xr-background-color-row-even);\n",
              "  margin-bottom: 0;\n",
              "}\n",
              "\n",
              ".xr-var-item > .xr-var-name:hover span {\n",
              "  padding-right: 5px;\n",
              "}\n",
              "\n",
              ".xr-var-list > li:nth-child(odd) > div,\n",
              ".xr-var-list > li:nth-child(odd) > label,\n",
              ".xr-var-list > li:nth-child(odd) > .xr-var-name span {\n",
              "  background-color: var(--xr-background-color-row-odd);\n",
              "}\n",
              "\n",
              ".xr-var-name {\n",
              "  grid-column: 1;\n",
              "}\n",
              "\n",
              ".xr-var-dims {\n",
              "  grid-column: 2;\n",
              "}\n",
              "\n",
              ".xr-var-dtype {\n",
              "  grid-column: 3;\n",
              "  text-align: right;\n",
              "  color: var(--xr-font-color2);\n",
              "}\n",
              "\n",
              ".xr-var-preview {\n",
              "  grid-column: 4;\n",
              "}\n",
              "\n",
              ".xr-index-preview {\n",
              "  grid-column: 2 / 5;\n",
              "  color: var(--xr-font-color2);\n",
              "}\n",
              "\n",
              ".xr-var-name,\n",
              ".xr-var-dims,\n",
              ".xr-var-dtype,\n",
              ".xr-preview,\n",
              ".xr-attrs dt {\n",
              "  white-space: nowrap;\n",
              "  overflow: hidden;\n",
              "  text-overflow: ellipsis;\n",
              "  padding-right: 10px;\n",
              "}\n",
              "\n",
              ".xr-var-name:hover,\n",
              ".xr-var-dims:hover,\n",
              ".xr-var-dtype:hover,\n",
              ".xr-attrs dt:hover {\n",
              "  overflow: visible;\n",
              "  width: auto;\n",
              "  z-index: 1;\n",
              "}\n",
              "\n",
              ".xr-var-attrs,\n",
              ".xr-var-data,\n",
              ".xr-index-data {\n",
              "  display: none;\n",
              "  background-color: var(--xr-background-color) !important;\n",
              "  padding-bottom: 5px !important;\n",
              "}\n",
              "\n",
              ".xr-var-attrs-in:checked ~ .xr-var-attrs,\n",
              ".xr-var-data-in:checked ~ .xr-var-data,\n",
              ".xr-index-data-in:checked ~ .xr-index-data {\n",
              "  display: block;\n",
              "}\n",
              "\n",
              ".xr-var-data > table {\n",
              "  float: right;\n",
              "}\n",
              "\n",
              ".xr-var-name span,\n",
              ".xr-var-data,\n",
              ".xr-index-name div,\n",
              ".xr-index-data,\n",
              ".xr-attrs {\n",
              "  padding-left: 25px !important;\n",
              "}\n",
              "\n",
              ".xr-attrs,\n",
              ".xr-var-attrs,\n",
              ".xr-var-data,\n",
              ".xr-index-data {\n",
              "  grid-column: 1 / -1;\n",
              "}\n",
              "\n",
              "dl.xr-attrs {\n",
              "  padding: 0;\n",
              "  margin: 0;\n",
              "  display: grid;\n",
              "  grid-template-columns: 125px auto;\n",
              "}\n",
              "\n",
              ".xr-attrs dt,\n",
              ".xr-attrs dd {\n",
              "  padding: 0;\n",
              "  margin: 0;\n",
              "  float: left;\n",
              "  padding-right: 10px;\n",
              "  width: auto;\n",
              "}\n",
              "\n",
              ".xr-attrs dt {\n",
              "  font-weight: normal;\n",
              "  grid-column: 1;\n",
              "}\n",
              "\n",
              ".xr-attrs dt:hover span {\n",
              "  display: inline-block;\n",
              "  background: var(--xr-background-color);\n",
              "  padding-right: 10px;\n",
              "}\n",
              "\n",
              ".xr-attrs dd {\n",
              "  grid-column: 2;\n",
              "  white-space: pre-wrap;\n",
              "  word-break: break-all;\n",
              "}\n",
              "\n",
              ".xr-icon-database,\n",
              ".xr-icon-file-text2,\n",
              ".xr-no-icon {\n",
              "  display: inline-block;\n",
              "  vertical-align: middle;\n",
              "  width: 1em;\n",
              "  height: 1.5em !important;\n",
              "  stroke-width: 0;\n",
              "  stroke: currentColor;\n",
              "  fill: currentColor;\n",
              "}\n",
              "</style><pre class='xr-text-repr-fallback'>&lt;xarray.Dataset&gt; Size: 3MB\n",
              "Dimensions:         (time: 44772)\n",
              "Coordinates:\n",
              "  * time            (time) datetime64[ns] 358kB 2017-06-02T23:24:48.057512960...\n",
              "    longitude       (time) float64 358kB ...\n",
              "    latitude        (time) float64 358kB ...\n",
              "Data variables:\n",
              "    cycle           (time) int16 90kB ...\n",
              "    track           (time) int16 90kB ...\n",
              "    sla_unfiltered  (time) float32 179kB ...\n",
              "    sla_filtered    (time) float32 179kB ...\n",
              "    dac             (time) float32 179kB ...\n",
              "    ocean_tide      (time) float32 179kB ...\n",
              "    internal_tide   (time) float32 179kB ...\n",
              "    lwe             (time) float32 179kB ...\n",
              "    mdt             (time) float32 179kB ...\n",
              "    tpa_correction  float32 4B ...\n",
              "Attributes: (12/44)\n",
              "    Conventions:                     CF-1.6\n",
              "    Metadata_Conventions:            Unidata Dataset Discovery v1.0\n",
              "    cdm_data_type:                   Swath\n",
              "    comment:                         Sea surface height measured by altimeter...\n",
              "    contact:                         servicedesk.cmems@mercator-ocean.eu\n",
              "    creator_email:                   servicedesk.cmems@mercator-ocean.eu\n",
              "    ...                              ...\n",
              "    summary:                         SSALTO/DUACS Delayed-Time Level-3 sea su...\n",
              "    time_coverage_duration:          P24H9M42.219059S\n",
              "    time_coverage_end:               2017-06-03T23:34:30Z\n",
              "    time_coverage_resolution:        P1S\n",
              "    time_coverage_start:             2017-06-02T23:24:48Z\n",
              "    title:                           DT Altika Drifting Phase Global Ocean Al...</pre><div class='xr-wrap' style='display:none'><div class='xr-header'><div class='xr-obj-type'>xarray.Dataset</div></div><ul class='xr-sections'><li class='xr-section-item'><input id='section-4380969f-0198-48ae-a51c-f2193f6c3d7f' class='xr-section-summary-in' type='checkbox' disabled ><label for='section-4380969f-0198-48ae-a51c-f2193f6c3d7f' class='xr-section-summary'  title='Expand/collapse section'>Dimensions:</label><div class='xr-section-inline-details'><ul class='xr-dim-list'><li><span class='xr-has-index'>time</span>: 44772</li></ul></div><div class='xr-section-details'></div></li><li class='xr-section-item'><input id='section-6c5603ac-2c1b-4e54-a05f-b308bf67b4c7' class='xr-section-summary-in' type='checkbox'  checked><label for='section-6c5603ac-2c1b-4e54-a05f-b308bf67b4c7' class='xr-section-summary' >Coordinates: <span>(3)</span></label><div class='xr-section-inline-details'></div><div class='xr-section-details'><ul class='xr-var-list'><li class='xr-var-item'><div class='xr-var-name'><span class='xr-has-index'>time</span></div><div class='xr-var-dims'>(time)</div><div class='xr-var-dtype'>datetime64[ns]</div><div class='xr-var-preview xr-preview'>2017-06-02T23:24:48.057512960 .....</div><input id='attrs-cacfc12a-ed20-4da4-b4d5-823f93f74c20' class='xr-var-attrs-in' type='checkbox' ><label for='attrs-cacfc12a-ed20-4da4-b4d5-823f93f74c20' title='Show/Hide attributes'><svg class='icon xr-icon-file-text2'><use xlink:href='#icon-file-text2'></use></svg></label><input id='data-c90e89e9-f89b-455c-9c2f-ab494090a323' class='xr-var-data-in' type='checkbox'><label for='data-c90e89e9-f89b-455c-9c2f-ab494090a323' title='Show/Hide data repr'><svg class='icon xr-icon-database'><use xlink:href='#icon-database'></use></svg></label><div class='xr-var-attrs'><dl class='xr-attrs'><dt><span>axis :</span></dt><dd>T</dd><dt><span>long_name :</span></dt><dd>Time of measurement</dd><dt><span>standard_name :</span></dt><dd>time</dd></dl></div><div class='xr-var-data'><pre>array([&#x27;2017-06-02T23:24:48.057512960&#x27;, &#x27;2017-06-02T23:24:49.113513216&#x27;,\n",
              "       &#x27;2017-06-02T23:24:50.169513216&#x27;, ..., &#x27;2017-06-03T23:34:28.164571904&#x27;,\n",
              "       &#x27;2017-06-03T23:34:29.220571904&#x27;, &#x27;2017-06-03T23:34:30.276572160&#x27;],\n",
              "      dtype=&#x27;datetime64[ns]&#x27;)</pre></div></li><li class='xr-var-item'><div class='xr-var-name'><span>longitude</span></div><div class='xr-var-dims'>(time)</div><div class='xr-var-dtype'>float64</div><div class='xr-var-preview xr-preview'>...</div><input id='attrs-7ffa0bd4-50f6-4716-b05a-b44cd827710e' class='xr-var-attrs-in' type='checkbox' ><label for='attrs-7ffa0bd4-50f6-4716-b05a-b44cd827710e' title='Show/Hide attributes'><svg class='icon xr-icon-file-text2'><use xlink:href='#icon-file-text2'></use></svg></label><input id='data-007b5322-d6ec-4083-ba2a-fb6d79ed86cc' class='xr-var-data-in' type='checkbox'><label for='data-007b5322-d6ec-4083-ba2a-fb6d79ed86cc' title='Show/Hide data repr'><svg class='icon xr-icon-database'><use xlink:href='#icon-database'></use></svg></label><div class='xr-var-attrs'><dl class='xr-attrs'><dt><span>long_name :</span></dt><dd>Longitude of measurement</dd><dt><span>standard_name :</span></dt><dd>longitude</dd><dt><span>units :</span></dt><dd>degrees_east</dd></dl></div><div class='xr-var-data'><pre>[44772 values with dtype=float64]</pre></div></li><li class='xr-var-item'><div class='xr-var-name'><span>latitude</span></div><div class='xr-var-dims'>(time)</div><div class='xr-var-dtype'>float64</div><div class='xr-var-preview xr-preview'>...</div><input id='attrs-5210f54a-6ba1-49a7-a24c-92a56b891b6a' class='xr-var-attrs-in' type='checkbox' ><label for='attrs-5210f54a-6ba1-49a7-a24c-92a56b891b6a' title='Show/Hide attributes'><svg class='icon xr-icon-file-text2'><use xlink:href='#icon-file-text2'></use></svg></label><input id='data-7ae86631-b920-4e09-884e-84ae66a9ea73' class='xr-var-data-in' type='checkbox'><label for='data-7ae86631-b920-4e09-884e-84ae66a9ea73' title='Show/Hide data repr'><svg class='icon xr-icon-database'><use xlink:href='#icon-database'></use></svg></label><div class='xr-var-attrs'><dl class='xr-attrs'><dt><span>long_name :</span></dt><dd>Latitude of measurement</dd><dt><span>standard_name :</span></dt><dd>latitude</dd><dt><span>units :</span></dt><dd>degrees_north</dd></dl></div><div class='xr-var-data'><pre>[44772 values with dtype=float64]</pre></div></li></ul></div></li><li class='xr-section-item'><input id='section-38ea96f4-6d84-4927-94a4-757f1b302fb8' class='xr-section-summary-in' type='checkbox'  checked><label for='section-38ea96f4-6d84-4927-94a4-757f1b302fb8' class='xr-section-summary' >Data variables: <span>(10)</span></label><div class='xr-section-inline-details'></div><div class='xr-section-details'><ul class='xr-var-list'><li class='xr-var-item'><div class='xr-var-name'><span>cycle</span></div><div class='xr-var-dims'>(time)</div><div class='xr-var-dtype'>int16</div><div class='xr-var-preview xr-preview'>...</div><input id='attrs-f350f8c6-373e-45bb-9710-2277ec169a1c' class='xr-var-attrs-in' type='checkbox' ><label for='attrs-f350f8c6-373e-45bb-9710-2277ec169a1c' title='Show/Hide attributes'><svg class='icon xr-icon-file-text2'><use xlink:href='#icon-file-text2'></use></svg></label><input id='data-76fb7079-90f3-4d5c-8b3a-f6051c2bbd9d' class='xr-var-data-in' type='checkbox'><label for='data-76fb7079-90f3-4d5c-8b3a-f6051c2bbd9d' title='Show/Hide data repr'><svg class='icon xr-icon-database'><use xlink:href='#icon-database'></use></svg></label><div class='xr-var-attrs'><dl class='xr-attrs'><dt><span>long_name :</span></dt><dd>Cycle the measurement belongs to</dd><dt><span>units :</span></dt><dd>1</dd></dl></div><div class='xr-var-data'><pre>[44772 values with dtype=int16]</pre></div></li><li class='xr-var-item'><div class='xr-var-name'><span>track</span></div><div class='xr-var-dims'>(time)</div><div class='xr-var-dtype'>int16</div><div class='xr-var-preview xr-preview'>...</div><input id='attrs-f0dd8ee0-e19e-4c6f-b70f-b51ca060df4a' class='xr-var-attrs-in' type='checkbox' ><label for='attrs-f0dd8ee0-e19e-4c6f-b70f-b51ca060df4a' title='Show/Hide attributes'><svg class='icon xr-icon-file-text2'><use xlink:href='#icon-file-text2'></use></svg></label><input id='data-455a1299-b462-47e3-a87c-e8237997da7c' class='xr-var-data-in' type='checkbox'><label for='data-455a1299-b462-47e3-a87c-e8237997da7c' title='Show/Hide data repr'><svg class='icon xr-icon-database'><use xlink:href='#icon-database'></use></svg></label><div class='xr-var-attrs'><dl class='xr-attrs'><dt><span>long_name :</span></dt><dd>Track in cycle the measurement belongs to</dd><dt><span>units :</span></dt><dd>1</dd></dl></div><div class='xr-var-data'><pre>[44772 values with dtype=int16]</pre></div></li><li class='xr-var-item'><div class='xr-var-name'><span>sla_unfiltered</span></div><div class='xr-var-dims'>(time)</div><div class='xr-var-dtype'>float32</div><div class='xr-var-preview xr-preview'>...</div><input id='attrs-b16927d2-9576-41eb-bbd1-10701924a889' class='xr-var-attrs-in' type='checkbox' ><label for='attrs-b16927d2-9576-41eb-bbd1-10701924a889' title='Show/Hide attributes'><svg class='icon xr-icon-file-text2'><use xlink:href='#icon-file-text2'></use></svg></label><input id='data-1a8e6666-3260-46c4-a62e-e18eb423fb2d' class='xr-var-data-in' type='checkbox'><label for='data-1a8e6666-3260-46c4-a62e-e18eb423fb2d' title='Show/Hide data repr'><svg class='icon xr-icon-database'><use xlink:href='#icon-database'></use></svg></label><div class='xr-var-attrs'><dl class='xr-attrs'><dt><span>comment :</span></dt><dd>The sea level anomaly is the sea surface height above mean sea surface height; the uncorrected sla can be computed as follows: [uncorrected sla]=[sla from product]+[dac]+[ocean_tide]+[internal_tide]-[lwe]; see the product user manual for details</dd><dt><span>long_name :</span></dt><dd>Sea level anomaly not-filtered not-subsampled with dac, ocean_tide and lwe correction applied</dd><dt><span>standard_name :</span></dt><dd>sea_surface_height_above_sea_level</dd><dt><span>units :</span></dt><dd>m</dd></dl></div><div class='xr-var-data'><pre>[44772 values with dtype=float32]</pre></div></li><li class='xr-var-item'><div class='xr-var-name'><span>sla_filtered</span></div><div class='xr-var-dims'>(time)</div><div class='xr-var-dtype'>float32</div><div class='xr-var-preview xr-preview'>...</div><input id='attrs-dd88e830-768e-45f3-851f-d72126a6b903' class='xr-var-attrs-in' type='checkbox' ><label for='attrs-dd88e830-768e-45f3-851f-d72126a6b903' title='Show/Hide attributes'><svg class='icon xr-icon-file-text2'><use xlink:href='#icon-file-text2'></use></svg></label><input id='data-1f65a20d-e633-4759-931c-f043397f6a53' class='xr-var-data-in' type='checkbox'><label for='data-1f65a20d-e633-4759-931c-f043397f6a53' title='Show/Hide data repr'><svg class='icon xr-icon-database'><use xlink:href='#icon-database'></use></svg></label><div class='xr-var-attrs'><dl class='xr-attrs'><dt><span>comment :</span></dt><dd>The sea level anomaly is the sea surface height above mean sea surface height; the uncorrected sla can be computed as follows: [uncorrected sla]=[sla from product]+[dac]+[ocean_tide]+[internal_tide]-[lwe]; see the product user manual for details</dd><dt><span>long_name :</span></dt><dd>Sea level anomaly filtered not-subsampled with dac, ocean_tide and lwe correction applied</dd><dt><span>standard_name :</span></dt><dd>sea_surface_height_above_sea_level</dd><dt><span>units :</span></dt><dd>m</dd></dl></div><div class='xr-var-data'><pre>[44772 values with dtype=float32]</pre></div></li><li class='xr-var-item'><div class='xr-var-name'><span>dac</span></div><div class='xr-var-dims'>(time)</div><div class='xr-var-dtype'>float32</div><div class='xr-var-preview xr-preview'>...</div><input id='attrs-9c1e072b-7f03-4ee3-bfa6-b7f46d0019bc' class='xr-var-attrs-in' type='checkbox' ><label for='attrs-9c1e072b-7f03-4ee3-bfa6-b7f46d0019bc' title='Show/Hide attributes'><svg class='icon xr-icon-file-text2'><use xlink:href='#icon-file-text2'></use></svg></label><input id='data-f5a536fa-8863-4bae-8610-846b865e1f3d' class='xr-var-data-in' type='checkbox'><label for='data-f5a536fa-8863-4bae-8610-846b865e1f3d' title='Show/Hide data repr'><svg class='icon xr-icon-database'><use xlink:href='#icon-database'></use></svg></label><div class='xr-var-attrs'><dl class='xr-attrs'><dt><span>comment :</span></dt><dd>The sla in this file is already corrected for the dac; the uncorrected sla can be computed as follows: [uncorrected sla]=[sla from product]+[dac]; see the product user manual for details</dd><dt><span>long_name :</span></dt><dd>Dynamic Atmospheric Correction</dd><dt><span>units :</span></dt><dd>m</dd></dl></div><div class='xr-var-data'><pre>[44772 values with dtype=float32]</pre></div></li><li class='xr-var-item'><div class='xr-var-name'><span>ocean_tide</span></div><div class='xr-var-dims'>(time)</div><div class='xr-var-dtype'>float32</div><div class='xr-var-preview xr-preview'>...</div><input id='attrs-206e4df6-a815-4e19-8460-d99f84a26f91' class='xr-var-attrs-in' type='checkbox' ><label for='attrs-206e4df6-a815-4e19-8460-d99f84a26f91' title='Show/Hide attributes'><svg class='icon xr-icon-file-text2'><use xlink:href='#icon-file-text2'></use></svg></label><input id='data-4a116e84-c8eb-462b-884b-7b1a3abf185a' class='xr-var-data-in' type='checkbox'><label for='data-4a116e84-c8eb-462b-884b-7b1a3abf185a' title='Show/Hide data repr'><svg class='icon xr-icon-database'><use xlink:href='#icon-database'></use></svg></label><div class='xr-var-attrs'><dl class='xr-attrs'><dt><span>comment :</span></dt><dd>The sla in this file is already corrected for the ocean_tide; the uncorrected sla can be computed as follows: [uncorrected sla]=[sla from product]+[ocean_tide]; see the product user manual for details</dd><dt><span>long_name :</span></dt><dd>Ocean tide model</dd><dt><span>units :</span></dt><dd>m</dd></dl></div><div class='xr-var-data'><pre>[44772 values with dtype=float32]</pre></div></li><li class='xr-var-item'><div class='xr-var-name'><span>internal_tide</span></div><div class='xr-var-dims'>(time)</div><div class='xr-var-dtype'>float32</div><div class='xr-var-preview xr-preview'>...</div><input id='attrs-40b29eb1-ba25-4117-9759-0327e628d173' class='xr-var-attrs-in' type='checkbox' ><label for='attrs-40b29eb1-ba25-4117-9759-0327e628d173' title='Show/Hide attributes'><svg class='icon xr-icon-file-text2'><use xlink:href='#icon-file-text2'></use></svg></label><input id='data-c363454a-1459-4a02-9adc-3e671d163f05' class='xr-var-data-in' type='checkbox'><label for='data-c363454a-1459-4a02-9adc-3e671d163f05' title='Show/Hide data repr'><svg class='icon xr-icon-database'><use xlink:href='#icon-database'></use></svg></label><div class='xr-var-attrs'><dl class='xr-attrs'><dt><span>comment :</span></dt><dd>The sla in this file is already corrected for the internal_tide; the uncorrected sla can be computed as follows: [uncorrected sla]=[sla from product]+[internal_tide]; see the product user manual for details</dd><dt><span>long_name :</span></dt><dd>Internal tide correction</dd><dt><span>units :</span></dt><dd>m</dd></dl></div><div class='xr-var-data'><pre>[44772 values with dtype=float32]</pre></div></li><li class='xr-var-item'><div class='xr-var-name'><span>lwe</span></div><div class='xr-var-dims'>(time)</div><div class='xr-var-dtype'>float32</div><div class='xr-var-preview xr-preview'>...</div><input id='attrs-1ae89d8e-e959-4d1b-b4f3-663afbfcba65' class='xr-var-attrs-in' type='checkbox' ><label for='attrs-1ae89d8e-e959-4d1b-b4f3-663afbfcba65' title='Show/Hide attributes'><svg class='icon xr-icon-file-text2'><use xlink:href='#icon-file-text2'></use></svg></label><input id='data-d935de2c-b9f2-435a-bbf4-34085d7891b7' class='xr-var-data-in' type='checkbox'><label for='data-d935de2c-b9f2-435a-bbf4-34085d7891b7' title='Show/Hide data repr'><svg class='icon xr-icon-database'><use xlink:href='#icon-database'></use></svg></label><div class='xr-var-attrs'><dl class='xr-attrs'><dt><span>comment :</span></dt><dd>The sla in this file is already corrected for the lwe; the uncorrected sla can be computed as follows: [uncorrected sla]=[sla from product]-[lwe]; see the product user manual for details</dd><dt><span>long_name :</span></dt><dd>Long wavelength error</dd><dt><span>units :</span></dt><dd>m</dd></dl></div><div class='xr-var-data'><pre>[44772 values with dtype=float32]</pre></div></li><li class='xr-var-item'><div class='xr-var-name'><span>mdt</span></div><div class='xr-var-dims'>(time)</div><div class='xr-var-dtype'>float32</div><div class='xr-var-preview xr-preview'>...</div><input id='attrs-b7a9633f-c034-42c6-ae69-4ae8011e6e98' class='xr-var-attrs-in' type='checkbox' ><label for='attrs-b7a9633f-c034-42c6-ae69-4ae8011e6e98' title='Show/Hide attributes'><svg class='icon xr-icon-file-text2'><use xlink:href='#icon-file-text2'></use></svg></label><input id='data-3ed90ec9-f4c6-4f5b-8c2a-3d4cac2a6e03' class='xr-var-data-in' type='checkbox'><label for='data-3ed90ec9-f4c6-4f5b-8c2a-3d4cac2a6e03' title='Show/Hide data repr'><svg class='icon xr-icon-database'><use xlink:href='#icon-database'></use></svg></label><div class='xr-var-attrs'><dl class='xr-attrs'><dt><span>comment :</span></dt><dd>The mean dynamic topography is the sea surface height above geoid; it is used to compute the absolute dynamic tyopography adt=sla+mdt</dd><dt><span>long_name :</span></dt><dd>Mean dynamic topography</dd><dt><span>standard_name :</span></dt><dd>sea_surface_height_above_geoid</dd><dt><span>units :</span></dt><dd>m</dd></dl></div><div class='xr-var-data'><pre>[44772 values with dtype=float32]</pre></div></li><li class='xr-var-item'><div class='xr-var-name'><span>tpa_correction</span></div><div class='xr-var-dims'>()</div><div class='xr-var-dtype'>float32</div><div class='xr-var-preview xr-preview'>...</div><input id='attrs-da9b2759-f6a2-4bc5-9aa9-d7c97f5f06d2' class='xr-var-attrs-in' type='checkbox' ><label for='attrs-da9b2759-f6a2-4bc5-9aa9-d7c97f5f06d2' title='Show/Hide attributes'><svg class='icon xr-icon-file-text2'><use xlink:href='#icon-file-text2'></use></svg></label><input id='data-bff7e523-7634-448f-ac0a-c50d4b7cd033' class='xr-var-data-in' type='checkbox'><label for='data-bff7e523-7634-448f-ac0a-c50d4b7cd033' title='Show/Hide data repr'><svg class='icon xr-icon-database'><use xlink:href='#icon-database'></use></svg></label><div class='xr-var-attrs'><dl class='xr-attrs'><dt><span>comment :</span></dt><dd>This variable can be added to the SLA to correct for the observed instrumental drift during the lifetime of the TOPEX-A mission (the correction is null after this period). This is a global correction to be added a posteriori (and not before) on the global mean sea level estimate derived from the along-track product. It can be applied at regional or local scale as a best estimate (better than no correction, since the regional variation of the instrumental drift is unknown). See product manual for more details.</dd><dt><span>long_name :</span></dt><dd>TOPEX-A instrumental drift correction derived from altimetry and tide gauges global comparisons (WCRP Sea Level Budget Group, 2018)</dd><dt><span>standard_name :</span></dt><dd>sea_surface_height_above_sea_level</dd><dt><span>units :</span></dt><dd>m</dd></dl></div><div class='xr-var-data'><pre>[1 values with dtype=float32]</pre></div></li></ul></div></li><li class='xr-section-item'><input id='section-03b57189-e6e6-4706-bb26-7673fe55fa7b' class='xr-section-summary-in' type='checkbox'  ><label for='section-03b57189-e6e6-4706-bb26-7673fe55fa7b' class='xr-section-summary' >Indexes: <span>(1)</span></label><div class='xr-section-inline-details'></div><div class='xr-section-details'><ul class='xr-var-list'><li class='xr-var-item'><div class='xr-index-name'><div>time</div></div><div class='xr-index-preview'>PandasIndex</div><div></div><input id='index-0d8e70ed-9684-4040-ac39-1009b6fa088e' class='xr-index-data-in' type='checkbox'/><label for='index-0d8e70ed-9684-4040-ac39-1009b6fa088e' title='Show/Hide index repr'><svg class='icon xr-icon-database'><use xlink:href='#icon-database'></use></svg></label><div class='xr-index-data'><pre>PandasIndex(DatetimeIndex([&#x27;2017-06-02 23:24:48.057512960&#x27;,\n",
              "               &#x27;2017-06-02 23:24:49.113513216&#x27;,\n",
              "               &#x27;2017-06-02 23:24:50.169513216&#x27;,\n",
              "               &#x27;2017-06-02 23:24:51.225513216&#x27;,\n",
              "               &#x27;2017-06-02 23:24:52.281512960&#x27;,\n",
              "               &#x27;2017-06-02 23:24:53.337512960&#x27;,\n",
              "               &#x27;2017-06-02 23:24:54.393512960&#x27;,\n",
              "               &#x27;2017-06-02 23:24:55.449512960&#x27;,\n",
              "               &#x27;2017-06-02 23:24:56.505512960&#x27;,\n",
              "               &#x27;2017-06-02 23:24:57.561513216&#x27;,\n",
              "               ...\n",
              "               &#x27;2017-06-03 23:34:20.772571904&#x27;,\n",
              "               &#x27;2017-06-03 23:34:21.828571904&#x27;,\n",
              "               &#x27;2017-06-03 23:34:22.884572160&#x27;,\n",
              "               &#x27;2017-06-03 23:34:23.940572160&#x27;,\n",
              "               &#x27;2017-06-03 23:34:24.996572160&#x27;,\n",
              "               &#x27;2017-06-03 23:34:26.052572160&#x27;,\n",
              "               &#x27;2017-06-03 23:34:27.108572160&#x27;,\n",
              "               &#x27;2017-06-03 23:34:28.164571904&#x27;,\n",
              "               &#x27;2017-06-03 23:34:29.220571904&#x27;,\n",
              "               &#x27;2017-06-03 23:34:30.276572160&#x27;],\n",
              "              dtype=&#x27;datetime64[ns]&#x27;, name=&#x27;time&#x27;, length=44772, freq=None))</pre></div></li></ul></div></li><li class='xr-section-item'><input id='section-b6843016-167c-4fc9-9826-5fb147a017cc' class='xr-section-summary-in' type='checkbox'  ><label for='section-b6843016-167c-4fc9-9826-5fb147a017cc' class='xr-section-summary' >Attributes: <span>(44)</span></label><div class='xr-section-inline-details'></div><div class='xr-section-details'><dl class='xr-attrs'><dt><span>Conventions :</span></dt><dd>CF-1.6</dd><dt><span>Metadata_Conventions :</span></dt><dd>Unidata Dataset Discovery v1.0</dd><dt><span>cdm_data_type :</span></dt><dd>Swath</dd><dt><span>comment :</span></dt><dd>Sea surface height measured by altimeters referenced to the [1993, 2012] period; with additional corrections; the proposed sla is already corrected for dac, ocean_tide and lwe; [uncorrected sla]=[sla from product]+[dac]+[ocean_tide]-[lwe]</dd><dt><span>contact :</span></dt><dd>servicedesk.cmems@mercator-ocean.eu</dd><dt><span>creator_email :</span></dt><dd>servicedesk.cmems@mercator-ocean.eu</dd><dt><span>creator_name :</span></dt><dd>CMEMS - Sea Level Thematic Assembly Center</dd><dt><span>creator_url :</span></dt><dd>http://marine.copernicus.eu</dd><dt><span>date_created :</span></dt><dd>2021-09-08T13:47:07Z</dd><dt><span>date_issued :</span></dt><dd>2021-09-08T13:47:07Z</dd><dt><span>date_modified :</span></dt><dd>2021-09-08T13:47:07Z</dd><dt><span>geospatial_lat_max :</span></dt><dd>81.502397</dd><dt><span>geospatial_lat_min :</span></dt><dd>-72.745381</dd><dt><span>geospatial_lat_resolution :</span></dt><dd>0.05769000000000801</dd><dt><span>geospatial_lat_units :</span></dt><dd>degrees_north</dd><dt><span>geospatial_lon_max :</span></dt><dd>359.990861</dd><dt><span>geospatial_lon_min :</span></dt><dd>0.0017679999999999998</dd><dt><span>geospatial_lon_resolution :</span></dt><dd>0.01749899999998661</dd><dt><span>geospatial_lon_units :</span></dt><dd>degrees_east</dd><dt><span>geospatial_vertical_max :</span></dt><dd>0.0</dd><dt><span>geospatial_vertical_min :</span></dt><dd>0.0</dd><dt><span>geospatial_vertical_positive :</span></dt><dd>down</dd><dt><span>geospatial_vertical_resolution :</span></dt><dd>point</dd><dt><span>geospatial_vertical_units :</span></dt><dd>m</dd><dt><span>history :</span></dt><dd>2021-09-08T13:47:07Z: Creation</dd><dt><span>institution :</span></dt><dd>CLS, CNES</dd><dt><span>keywords :</span></dt><dd>Oceans &gt; Ocean Topography &gt; Sea Surface Height</dd><dt><span>keywords_vocabulary :</span></dt><dd>NetCDF COARDS Climate and Forecast Standard Names</dd><dt><span>license :</span></dt><dd>http://marine.copernicus.eu/web/27-service-commitments-and-licence.php</dd><dt><span>platform :</span></dt><dd>Altika Drifting Phase</dd><dt><span>processing_level :</span></dt><dd>L3</dd><dt><span>product_version :</span></dt><dd>vDec2021</dd><dt><span>project :</span></dt><dd>COPERNICUS MARINE ENVIRONMENT MONITORING SERVICE (CMEMS)</dd><dt><span>references :</span></dt><dd>http://marine.copernicus.eu</dd><dt><span>software_version :</span></dt><dd>7.0_DUACS_DT2021_baseline</dd><dt><span>source :</span></dt><dd>Altika Drifting Phase measurements</dd><dt><span>ssalto_duacs_comment :</span></dt><dd>The reference mission used for the altimeter inter-calibration processing is Topex/Poseidon between 1993-01-01 and 2002-04-23, Jason-1 between 2002-04-24 and 2008-10-18, OSTM/Jason-2 between 2008-10-19 and 2016-06-25, Jason-3 since 2016-06-25.</dd><dt><span>standard_name_vocabulary :</span></dt><dd>NetCDF Climate and Forecast (CF) Metadata Convention Standard Name Table v37</dd><dt><span>summary :</span></dt><dd>SSALTO/DUACS Delayed-Time Level-3 sea surface height measured by Altika Drifting Phase altimetry observations over Global Ocean.</dd><dt><span>time_coverage_duration :</span></dt><dd>P24H9M42.219059S</dd><dt><span>time_coverage_end :</span></dt><dd>2017-06-03T23:34:30Z</dd><dt><span>time_coverage_resolution :</span></dt><dd>P1S</dd><dt><span>time_coverage_start :</span></dt><dd>2017-06-02T23:24:48Z</dd><dt><span>title :</span></dt><dd>DT Altika Drifting Phase Global Ocean Along track SSALTO/DUACS Sea Surface Height L3 product</dd></dl></div></li></ul></div></div>"
            ]
          },
          "metadata": {},
          "execution_count": 61
        }
      ]
    },
    {
      "cell_type": "code",
      "source": [],
      "metadata": {
        "id": "lL0QSE2I9Afz"
      },
      "execution_count": null,
      "outputs": []
    }
  ]
}